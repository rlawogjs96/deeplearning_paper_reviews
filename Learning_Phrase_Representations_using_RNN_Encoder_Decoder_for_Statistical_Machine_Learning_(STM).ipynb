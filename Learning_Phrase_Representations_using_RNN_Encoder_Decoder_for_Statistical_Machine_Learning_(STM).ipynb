{
  "nbformat": 4,
  "nbformat_minor": 0,
  "metadata": {
    "colab": {
      "name": "Learning_Phrase_Representations_using_RNN_Encoder-Decoder_for_Statistical_Machine_Learning_(STM).ipynb",
      "provenance": [],
      "collapsed_sections": [],
      "include_colab_link": true
    },
    "kernelspec": {
      "name": "python3",
      "display_name": "Python 3"
    },
    "language_info": {
      "name": "python"
    },
    "accelerator": "GPU",
    "gpuClass": "standard"
  },
  "cells": [
    {
      "cell_type": "markdown",
      "metadata": {
        "id": "view-in-github",
        "colab_type": "text"
      },
      "source": [
        "<a href=\"https://colab.research.google.com/github/rlawogjs96/deeplearning_paper_reviews/blob/main/Learning_Phrase_Representations_using_RNN_Encoder_Decoder_for_Statistical_Machine_Learning_(STM).ipynb\" target=\"_parent\"><img src=\"https://colab.research.google.com/assets/colab-badge.svg\" alt=\"Open In Colab\"/></a>"
      ]
    },
    {
      "cell_type": "markdown",
      "source": [
        "# **Learning Phrase Representations using RNN Encoder-Decoder for Statistical Machine Learning (STM)**\n",
        "\n"
      ],
      "metadata": {
        "id": "V9SJIOeK60Z7"
      }
    },
    {
      "cell_type": "markdown",
      "source": [
        "논문을 바탕으로 Seq2Seq 아키텍쳐와 LSTM의 대한책인 Gated Recurrent Unit(GRU)를 구현했다. 들어가기에 앞서 RNN Encoder-Decoder, GRU, STM이 무엇인지 학습하고 들어가보겠다. Encoder는 가변 길이의 source sequence를 고정된 크기의 context vector로 만드는 역할을 갖고 있고, Decoder는 context vector를 다시 가변 길이의 target sequence로 변환하는 역할을 갖는다. 이렇게 RNN Encoder-Decoder는 인코더와 디코더 역할을 갖는 두 개의 RNN을 바탕으로 만들어졌다. GRU 모델에서는 hidden state이 불필요한 정보를 알아서 무시하고 더 함축된 representation을 생성할 수 있다. Reset Gate와 Update Gate이 존재하고, Reset Gate이 0에 가까워 지면 이전 hidden state값이 무시되고 현재의 input만이 hidden state에 영향을 준다. 또한 Update Gate은 current hidden state으로 얼마나 많은 정보를 업데이트할지 결정하는 역할을 갖고있다. "
      ],
      "metadata": {
        "id": "NRnTtWrY1giT"
      }
    },
    {
      "cell_type": "markdown",
      "source": [
        "### Introduction\n",
        "![seq2seq1.png](data:image/png;base64,iVBORw0KGgoAAAANSUhEUgAAArcAAAGlCAYAAADga956AAALunRFWHRteGZpbGUAJTNDbXhmaWxlJTIwaG9zdCUzRCUyMnd3dy5kcmF3LmlvJTIyJTIwbW9kaWZpZWQlM0QlMjIyMDIwLTAxLTIxVDExJTNBMzElM0EyMS44NThaJTIyJTIwYWdlbnQlM0QlMjJNb3ppbGxhJTJGNS4wJTIwKFgxMSUzQiUyMExpbnV4JTIweDg2XzY0KSUyMEFwcGxlV2ViS2l0JTJGNTM3LjM2JTIwKEtIVE1MJTJDJTIwbGlrZSUyMEdlY2tvKSUyMENocm9tZSUyRjY5LjAuMzQ5Ny45MiUyMFNhZmFyaSUyRjUzNy4zNiUyMiUyMHZlcnNpb24lM0QlMjIxMi41LjUlMjIlMjBldGFnJTNEJTIyTnhGeGpESExwSDM0RWo3TVFWS3klMjIlMjB0eXBlJTNEJTIyZGV2aWNlJTIyJTNFJTNDZGlhZ3JhbSUyMGlkJTNEJTIyZDc2MjhlM2QtODBiZS0wOTEwLWRiZjQtOTVmZGE5NmQ5ODBmJTIyJTIwbmFtZSUzRCUyMlBhZ2UtMSUyMiUzRTdaMU5lNk0yRUlCJTJGalklMkZOWXhBSWZOek5mdlRRYmZzMGg5MDk5Y0ZHdG1rd3ltSWNPJTJGbjFGVWJZSU1rT01XTEFpWHdKaUE4YmpkNlowY3lJak5EdGF2YzFEUjZXMzJoSTRwRTlEbmNqOUdsazJ4WnlYZlluYjNrcVdqd2JGdzJMTkFyNVNjZUd1JTJCaVo4TVl4YjkxRUlWblhUc3dvamJQb29kNDRvMGxDWmxtdExVaFR1cTJmTnFkeCUyRlZzZmdnV1JHdTVtUVN5M2ZvJTJGQ2JGbTAlMkJ1VlQ1TzIlMkZrMml4TEwlMkZad3BQaXlEU1kzUzlTdWtuNDk0MXNOTjklMkZpc09yb0x3WGY5RDFNZ2pwdHRLRVBvJTJGUWJVcHBWbXl0ZHJja3p2dTI3TGJpdWk4bmpoNSUyQmQwcVNyTWtGaUYlMkJ4enA3S1p5Y2g2d3ElMkJtOUNFJTJGZm00ZnlDU1h6Sm1lek82aW1aOGU1bXRZclpwc1UyeWk3SWZsZTJmJTJCU2szYnI2WFpPblREMzdGZnVkNDdOQUIlMkJiSCUyRlNKWTk4ZEVRYkRMS21taWFMZW1DSmtIOEI2VVAlMkZQWnptbVJmZ2xVVTU4UHJsbTdTaUtUc0lmNGtXMzZRMzhQQ2JGJTJGdWt2S1oyWVV6JTJGdEEySDJSQnVpRDhMRlEwNWQxUnVZeDM0MWRDVjRROUNEc2hKWEdRUlklMkYxa1JQd0FiZzRuSGNVQXR2Z2NsRExoUCUyQld4eURla0hJVUNUS3FDMlM3akRKeTl4RHNIMmJMaUt3THB0YkZpemhZcnhXQ1hHY3B2U2UzTkticCUyRml1UWIwOFJ6dnR2SHNWeHBUMTBpUjg2cnhWQ0VFZUxoTzNNbUJEWWFXZWs4a2pTak96TzluaDVGSE9JdUpLeEhiNiUyRlBTSmJOaTBydEpadGJXU0VaSm04UzI2UXpFMTVHanc0eUlEVENKd0RBVDJBWTFrdkMlMkJsU2tnYkNoS3Q3JTJGUE5MJTJGNllSJTJCOWFqJTJCdlByVWtSWUVFOEJKYjlLa05EaFp6UVNtaXZKYkxISlNDSUpqbzIlMkZUQkJKalE0dXpDb1l2RWthNXZsb2pwaEQ5b0VmV0VWaG1IJTJCTmt0bjY2R2lFclI2eFgyNnNIS3NaYzdZTzVzWnZuamtNdzV5TndaakRrc3hXbE4zYlFOZkMwSUZDTjlIdUlYS3ZzUFFSaDBPZkQwT2ZPeGI4bG5GbjlEbEl1JTJGU3UwciUyRm5rcTM2OXhQZHdtNUtsUCUyQnlGUU53NyUyRkhNSjlPNXdyMFBpRCUyQmZEY0c5ZCUyRnolMkIzUHREWE9zZGFEM3RJSnpRZXFJNE85UjZqdEY2RmNuV29vRzlxYjJKVVh1TjFKN2JZempRY2lRaHJVYzJqblBIZkwyWnNzMUZ2b25LTm5hJTJGU3JNa1QlMkJQU241UXlGbHg2eTROejZSMXMxT08lMkJMOHVVWEVVJTJGT3RxalhvMWRqZ1lSUlJQMnpVMlkzYU5mYUw4c3BDc1BRZWxQR0tyOVFlU0F4YUNVR1JVY3JISmc5bmFNMFBXaHdaaXlsanhDUnFlUSUyRm5uYWRab3lMSnN5dXk5TDVyeWprQ0ZVeE42Q2l4a3FRdmJHRVZFcHZqN2pVeENJSGZYZVVRMyUyQkhKaXpBaFN5RiUyRkhyMGxsUnhZZXJ6c3JhT0N2YW1BWDFWZlJISmElMkJTV1FRMHdSRFRiQjB5aTE2YVlCaG1OU2FDUUtIVkh5dTdUbWlCcXNIRUxGR1gwQ3JLd1NnTkRabVg1eXBBeWZRQnlCd0tmVUE1V2l6bW5ycWJaWmFQWlBLQnI4d1VRVTR6SGYzTGFxN1MlMkJqbmFZMm5OJTJCT3ZRJTJCcFdQVkMlMkZNVEtKa1lRemc1WEJDR2tESDB3N25WY2ElMkJ5NVJ0TmZhdFBTelVXQ2l5VSUyRm5jaDEyYiUyQnE3amptVzdOdmRuWkRZSXUlMkJhSUVXMUF1JTJCYSUyQjQlMkJXaXRSUVJVUGJDR2QlMkJneXNmeDNicm8zY2tOcm53OHAlMkY0RkJlMWFWZ0RKUzBpV2lnS25zU2x3dWhqdmcwemhMS0VyJTJCeklxcVZwR3FtMlZ0aENkZ2F4YUs5JTJGRjhGYm4lMkI5RHJMSnZPN1YlMkIlMkJrV2lSTmFwck9SV3RBdHMyWUxjRlcxelhDVXEyJTJGb25NdXlKYlhNMTVNZG5TalRva1c4NXlxOGcybGVhdHlSWVhqNEtTJTJGY1lyd2FCclpDOG1XN3BSZDJUalpsTXN4NURkbG15eDhCYVNiQ3hYUEtoV0Nwa3BWJTJGczRXWTl6THR4c1Baanh2MXRMV2N5a1EwclplJTJCTXo2OW9MVnFEcVdJVG90bWh2TmI1Z1JjNDRTT0lFU0RoTXNJY0NSYmsyc1VLWGVLJTJCVkpjVDdCUHhtaE9uSU4zZ1FWV1FESWF4VVhOQ1ZZdDBSNXNrZXJTR3NpUkdESkV3V3lYRFhZWjZyZURrcGhtcmV6Z09hZjNxQ0ZiTkVkNlBwJTJGRk1zYkxIRXdoWjk4MCUyRnZqVWNUYTdvV2FCeUk0dXRRMXc1akZmendkYTFZZVFTcGElMkZXOVZPd2FkQzJRUDRNOVFVV2lDM1d0NkJnMTFiVWYwalI0cXB6MmtKJTJCd2J1NkFXWHhzSFVkUmNjZUxWWUclMkI5VkpYTU15Z0pxYjRoTlJlUDh4RTM2QkRreTRuaTh4S2paWlJSTUR3a2x6cGJ5cU4yd2NJNFFSWURoM3olMkJoU1FONEhCQ1paOG5IJTJGJTJGWiUyRlhyMzUlMkI3WDM4Rms0M2xQVyUyRnZmJTJGUFAxOFllVGVYblk2dlF6MHB6cWpDN3paYUhzTzFQdSUyQnJPVTdsenh1YnVkNDZYN2ZmSzY1U0c5c1c1bHJxenhySWxMNHBxV3hqdWR1SWJSckFxeEZQc0tpWlE4JTJGbmMxbFolMkZMa0dtRUdMVFVzWkRNaFZnQXFVVTNPVDhyTXB3Vnh2bHRvSzdYckd6RFhhTnNCTUxEZnZuVGhhVTRlN2tNRmY4b3lUVUszZkQlMkJHZEp3JTJCZE9MQVBzbnp2alo3NkNPMGRoNzZEV05KNzlSUWE4VjFicDlRJTJGZTJJRFhITHhUaTR0NzQyNFk1VDdENTA2TWVQYk9uWCUyQiUyQkdONXdWJTJCc3N4UXR0SjcxeU40eTNvZzZmT3pGUTNUOTM1MThVWmJpcmRaWW5jNGY2QmM4ejREVUNUMHdrZEFnZTJ6MyUyQmIlMkZjaW9jdTZlZm1OaGlRJTJGNDM4JTNEJTNDJTJGZGlhZ3JhbSUzRSUzQyUyRm14ZmlsZSUzRZWlsXEAACAASURBVHhe7d0J2B3j/f/xb8jGP7UUKaVUF2qtltZea2jtKmppiFKKCrUvkZAgqiglLUpLCNXYquWnSC39qa3UWlutpaqxE0sS5H995uo8vyePJM+c87nPmck877kuVzTOd87M675n5jP33HPaa/r06dODBQEEEEAAAQQQQACBGgj0ItzWoBXZBQQQQAABBBBAAIFMgHBLR0AAAQQQQACBTGD99dePRRddNC699FJEZiHQu3fv2HvvvWPs2LEYVVSAcFvRhmGzEEAAAQQQaLcA4bZ78QMOOCDWWWed2H777bv/MJ8oRYBwWwo7X4oAAggggED1BHpCuP3oo49irrnmqh5+yVt0++23xwMPPBD77LNPKVty4YUXxmKLLRaDBg2yv59waxOyAgQQQAABBDyB9957L/bdd9+48sorQ4+999prr/jsZz8bBx10ULzzzjsdK3/rrbfisMMOi6uuuipef/31+NznPpd9Rp/vvFx77bVx7LHHxkMPPRTzzDNPbLTRRvHTn/40llxyyY6PPf7447HHHnvEPffck01FOOqoo+I3v/lNfOpTnyplWsLWW28dyy+/fEycODGefPLJbFuuuOKK7M8dd9wxzjvvvI5tL7J/2p9rrrkm7r777jj44IOzdf3nP/+J7bbbLi6//PJsXXLU//773/8eP/zhD+POO++MRRZZJI488shs6kG+6POdR2r12a7TEtQen/zkJ+Pqq6/O1qt/+vTpk9X97Gc/y/49X04++eQ47bTT4s0334xNN900Dj/88FhjjTWybf3a177mdaYGqqdNmxaXXXZZnH766ZnB6NGjMystkydPzrZLbtq3L33pSzFq1KjYZpttZviGxx57LA455JD485//HB988EF89atfjTFjxsQ3vvGNGT6n/nf22WfH888/HwsuuGDm/pOf/CTrn1ouuOCC+NGPfhRLLLFEaHR8yJAhHf+tgV3KPkq4bVSMzyOAAAIIIJBY4MADD4xzzz03C3Bf/vKX48wzz4ybbropXnrppXjjjTc6vm3DDTeMJ554Is4555z4whe+kIXh4cOHx/nnnx9Dhw7NPnfLLbdkYVYjcArMr732Wvbn1KlT48EHH4y+ffuGfihpxRVXjF69esWvfvWr6N+/fxZcbrvtttB3lDHndvDgwXHzzTdn/ygMKsAqZH7+85+PLbfcMv75z3/GZz7zmUL7JweFYpko+D/77LMhY+2n9j8PkAq/WremGZx66qmx0korxYknnhgnnHBCFvYU6LTopkLfr2XbbbfNAmnXcKsw+IlPfCLb3uOPPz4U1rUvW2yxRRbq8hsQhV8FRN18KLSrnX/+859n33fffffFKquskrh3fXx1r776ataH9L3qCwrr6i8K5/mi7VbY1rarr1x88cXZfv3pT3/K5mZreeWVV7IbEjkpsCuoyu93v/td3H///bHssstmn1NbaP3jx4+PlVdeOV588cX4wQ9+EGuvvXb84he/6PjOt99+O+uPan95ykzb9ulPf7ohE8JtQ1x8GAEEEEAAgfQCGi3daaedshG0fFFg6BxuNcKqUJaPZOaf22STTeLll1/OgpEWhZKnnnoqHn300Y516ZGzgoRCh0LXvffeG6uttlr84Q9/yD6vRaNzChH672WF23/9619xxx13xK9//etsVFnhSVMIFLo0MrjuuusW2j/tj4KlgrrCouzmnnvujzVcHm4vueSSzF+LAtZ8882X3TDstttuH6tR0FO4m1W4VSBTcMyXVVddNQvNGpnUssMOO4RGzRX+8kVB75e//GXLw+37778f+++/fxYyv/jFL2aBf+edd84Cf+dFQVv72dVAo7GykZuWU045JY444oh47rnnYvHFF8/+Tk8hNL3ge9/7XjY6rUXfqTZQP8wXjeBq5FhPH7ouH374YXbjphuOv/3tb9not274Oofv2R2FhNvZ6fDfEEAAAQQQaLGARlYXWmihLNApEOSLHtEqEOUjtxrh0ijWv//972waQb5oxFWPkxVc9Oh74MCB8e1vfzsbccsXzTNVgNGjen32oosuil133TVeeOGFjlCizyrQ6J+ywq1GkvWYXN+vx9J6zK390ojgH//4x2zEtMj+aV/ymwGFxj333HOmrZiHW42GK+zli0Z4NXqbP6LvXNxduO36fd/85jezdtGNhBaNXH7lK1+JcePGdaxWNx0aEW71yK1ulhQ8Dz300DjppJOykfuZLfnNhQKopgnki0abzzjjjOxpgJbvfOc72dMATU3ovGywwQahgKobEi2a1qHPql9qhH7jjTeOhRdeuNCRpQCtqTgKuUVHtQm3hWj5EAIIIIAAAq0RUIDQXNjf/va3WQDIF81b1JzEPNzq3zUHcsqUKTOMtClsaI6iRl4XWGCBmHfeebO5i6rvvGjUS4FWo8NnnXVWNlVBo5QDBgzo+Nhaa62VbUtZ4VahUqOK+n6NmirY5uH2uuuuCwXFIvvXOdzmI74za7083HYNcdoOPYLXXNKuS3fhVjcOCub5om3WPOp8tFPTFhTSOz+Oz0fWWx1uZTls2LBsioHCvOZra8S668it+ohGdfv16zfD7iuw6oZDU1wU2DfbbLOsf3YekVWBQuzTTz89w+i0wr1Gu2+99dZsxFYGmoKgsN110fdozrJGbvWUQYFYtYzctuYcxFoRQAABBBBIKqBH73qJSaO0+bxZfYFG1zQPNw+3Cn277LLLx0ZuNZqmUUY9DlaI0lxcjYzNbOT26KOPzuZ6atRQ4bHryK3mSGpUscrhtsj+dQ63f/3rX7MpGFUJtwrHml6iR/75ovnFmh7S6nCbf5/6nKZOKGBrzu1+++2XvUCXh0f1RT1F0At2888//8fo1E806vv9738/m6fddeQ2n5Or+d9dl3fffTduvPHGbDqDwnPn6RmaZ6vAq3CtGy9N8dC2Mec26SmHlSGAAAIIINB6AY246kKu0dl80SNYvQiVh9t8HmTXObeaV6rAoCCiRfMTH3744Rnm3Gr0cr311ot89FOfXXPNNTvm4KpOQXeppZbK6qscbovsX5XDrV4m0wtVelkrXzTyrhH4doXb/Hs1gjphwoTsBS71r+OOOy4bzdWcYM351mjz5ptv3rGdmhOtObd6cU6LXkjTtneec6tf99BorJ4M/PjHP84+p/6nqTTLLLNMx7r0vbpZ02iygnLnX0vQHF39t/yXFBo9ApmW0KgYn0cAAQQQQCCxgEbJ9Ba9QqVGJvXyjH4SS4/LO/9aguZlai6pRv30U2H6/MiRI7OXb/KfaNLcRI0M6vGz5ujq56/0wpKCwl133ZW9WKXHvgoaerSsKQoa8dWI7jPPPBNf//rXKx1ui+xfynCrAKgX9PJlq622yow0Cq5F86U18p7/WkJ30xLyUXO1sUZr9eKbHrlrv9odbjt347/85S/Z/Nn8d271U13qawqwGm3WtqlP6YU4TRfQoqcF6q8aydXLY3r5T3O6b7jhhuxn6PKfntPUB81r1j7rFy8091dTbNQnNWqtRb9zqwCsFyTdhXDrClKPAAIIIICAKaAXdHbfffcsFOgxsEKEAqd+G1RBIF/0u6iarqD5iPp5KoUK/RSYAkfnRSNuCr0ajdOcWo2+KZAohOWLfrBfo8V6LKw33TXHVC9zKaDot03bvWheZZE5t9quIvuXv1DmTkvQ6PnSSy89Sw69dKaXnoqGW00DULDT43cFZ92UaDqKppLoFy7ynx9rt3/X71Nw1U+xaS64+qeCqqayaDpB51+e0DbLQKOz2jc9EdDPgml6S76or+ozenKgX/ZQP9R8Xf1smG4OUi+E29SirA8BBBBAAIEmBDS1QC9L5YtGXRXQNNrKUi8BvRSom5c8JOqmQi8T6pF+5z5Qr71u394QbttnzTchgAACCCAwUwFNL9DvjeoFMr2Mo0fAmqqgF8U0/5ClPgKaaqJfTNDPk2m+6qRJk7JpIxqF1/QSFl+AcOsbsgYEEEAAAQRsAb1MpjfY9dKOfltUj6r1WFgjfCz1EtC0imOOOSabhqD/K9pBgwZlUxuK/vZrvTTS7w3hNr0pa0QAAQQQQAABBBAoSYBwWxI8X4sAAggggAACCCCQXoBwm96UNSKAAAIIIIAAAgiUJEC4LQmer0UAAQQQQAABBBBIL0C4TW/KGhFAAAEEEEAAAQRKEiDclgTP1yKAAAIIIIAAAgikFyDcpjdljQgggAACCCCAAAIlCRBuS4LnaxFAAAEEEEAAAQTSCxBu05uyRgQQQAABBBBAAIGSBAi3JcHztQgggAACCCCAAALpBQi36U1ZIwIIIIAAAggggEBJAoTbkuD5WgQQQAABBBBAAIH0AoTb9KasEQEEEEAAAQQQQKAkAcJtSfB8LQIIIIAAAggggEB6AcJtelPWiAACCCCAQFsFpk2bFkOHDo1x48ZFnz592vrddfgy/LxWrJof4dZrT6oRQAABBBAoXWDMmDExatSoGDlyZAwfPrz07ZnTNgA/r8Wq5ke49dqTagQQQAABBEoX6N+/f0yZMiX69u2b/cnSmAB+jXl1/XTV/Ai3XntSjQACCCCAQKkCGjUbPXp0Fmr79esXI0aMYPS2gRbBrwGsmXy0in6EW69NqUYAAQQQQKBUgXzULN8IRm8baw78GvOa1ahtlfof4dZrU6oRQAABBBAoTaDzqFm+EYzeFm8O/IpbzeyTVfUj3HrtSjUCCCCAAAKlCSjI9u7dOwYMGBCTJk2KgQMHxuTJk0Nvr0+dOrW07ZpTvhg/r6Wq6ke49dqVagQQQAABBEoRmDhxYgwePDjGjh0bQ4YMiV69esX06dNj/PjxMWzYsJgwYUIMGjSolG2bE74UP6+VquxHuPXalmoEEEAAAQQqIZCH20pszBy4Efh5jVYlP8Kt15ZUI4AAAgggUAmBKoWLSoA0uBH4NQjW5eNV8iPcem1JNQIIIIAAApUQqFK4qARIgxuBX4NghFsPjGoEEEAAAQQQmL0A4czrIfjVx4+RW68tqUYAAQQQQKASAoQzrxnwq48f4dZrS6oRQAABBBCohADhzGsG/OrjR7j12pJqBBBAAAEEKiFAOPOaAb/6+BFuvbakGgEEEEAAgUoIEM68ZsCvPn6EW68tqUYAAQQQQKASAoQzrxnwq48f4dZrS6oRQAABBBCohADhzGsG/OrjR7j12pJqBBBAAAEEKiFAOPOaAb/6+BFuvbakGgEEEEAAgUoIEM68ZsCvPn6EW68tqUYAAQQQQKASAoQzrxnwq48f4dZrS6oRQAABBBCohADhzGsG/OrjR7j12pJqBBBAAAEEKiFAOPOaAb/6+BFuvbakGgEEEEAAgUoIEM68ZsCvPn6EW68tqUYAAQQQQKASAoQzrxnwq48f4dZrS6oRQAABBBCohADhzGsG/OrjR7j12pJqBBBAAAEEKiFAOPOaAb/6+BFuvbakGgEEEEAAgUoIEM68ZsCvPn6EW68tqUYAAQQQQKASAoQzrxnwq48f4dZrS6oRQAABBBCohADhzGsG/OrjR7j12pJqBBBAAAEEKiFAOPOaAb/6+BFuvbakGgEEEEAAgUoIEM68ZsCvPn6EW68tqUYAAQQQQKASAoQzrxnwq48f4dZrS6oRQAABBBCohADhzGsG/OrjR7j12pJqBBBAAAEEKiFAOPOaAb/6+BFuvbakGgEEEEAAgUoIEM68ZsCvPn6EW68tqUYAAQQQQKASAoQzrxnwq48f4dZrS6oRQAABBBCohADhzGsG/OrjR7j12pJqBBBAAAEEKiFAOPOaAb/6+BFuvbakGgEEEEAAgaYEzjrkN03VtbNon1N2aufXNfRd+DXE9bEP19mPcOv1DaoRQAABBBBoSkDhYvPdN2iqth1F1/765qh6uMWv+Z5Q5/5HuG2+X1CJAAIIIIBA0wJ1DhdNozRQiF8DWDP5aJ39CLde36AaAQQQQACBpgTqHC6aAmmwCL8Gwbp8vM5+hFuvb1CNAAIIIIBAUwJ1DhdNgTRYhF+DYIRbD4xqBBBAAAEEEJi9AOHM6yH44TcrAUZuvb5BNQIIIIAAAk0JEM6aYusowg8/wq3XB6hGAAEEEEAgqQDhzOPEDz/CrdcHqEYAAQQQQCCpAOHM48QPP8Kt1weoRgABBBBAIKkA4czjxA8/wq3XB6hGAAEEEEAgqQDhzOPEDz/CrdcHqEYAAQQQQCCpAOHM48QPP8Kt1weoRgABBBBAIKkA4czjxA8/wq3XB6hGAAEEEEAgqQDhzOPEDz/CrdcHqEYAAQQQQCCpAOHM48QPP8Kt1weoRgABBBBAIKkA4czjxA8/wq3XB6hGAAEEEEAgqQDhzOPEDz/CrdcHqEYAAQQQQCCpAOHM48QPP8Kt1weoRgABBBBAIKkA4czjxA8/wq3XB6hGAAEEEEAgqQDhzOPEDz/CrdcHqEYAAQQQQCCpAOHM48QPP8Kt1weoRgABBBBAIKkA4czjxA8/wq3XB6hGAAEEEEAgqQDhzOPEDz/CrdcHqEYAAQQQQCCpAOHM48QPP8Kt1weoRgABBBBAIKkA4czjxA8/wq3XB6hGAAEEEEAgqQDhzOPEDz/CrdcHqEYAAQQQQCCpAOHM48QPP8Kt1weoRgABBBBAIKkA4czjxA8/wq3XB6hGAAEEEEAgqQDhzOPEDz/CrdcHqEYAAQQQQCCpAOHM48QPP8Kt1weoRgABBBBAIKkA4czjxA8/wq3XB6hGAAEEEEAgqQDhzOPEDz/CrdcHqEYAAQQQQCCpAOHM48QPP8Kt1weoRgABBBBAIKkA4czjxA8/wq3XB6hGAAEEEEAgqQDhzOPEDz/CrdcHqEYAAQQQQCCpAOHM48QPP8Kt1weoRgABBBBAIKkA4czjxA8/wq3XB6hGAAEEEEAgqQDhzOPEDz/CrdcHqEYAAQQQQCCpAOHM48QPP8Kt1weoRgABBBBAIKkA4czjxA8/wq3XB6hGAAEEEEAgqYDCWdWXfU7ZqbKbiJ/XNHX26zV9+vTpHg/VCCCAAAIIIFCmwLRp02Lo0KExbty46NOnT5mbMkd+N35es1XNj3DrtSfVCCCAAAIIlC4wZsyYGDVqVIwcOTKGDx9e+vbMaRuAn9diVfMj3HrtSTUCCCCAAAKlC/Tv3z+mTJkSffv2zf5kaUwAv8a8un66an6EW689qUYAAQQQQKBUAY2ajR49Ogu1/fr1ixEjRjB620CL4NcA1kw+WkU/wq3XplQjgAACCCBQqkA+apZvBKO3jTUHfo15zWrUtkr9j3DrtSnVCCCAAAIIlCbQedQs3whGb4s3B37FrWb2yar6EW69dqUaAQQQQACB0gQUZHv37h0DBgyISZMmxcCBA2Py5Mmht9enTp1a2nbNKV+Mn9dSVfUj3HrtSjUCCCCAAAKlCEycODEGDx4cY8eOjSFDhkSvXr1Cv+45fvz4GDZsWEyYMCEGDRpUyrbNCV+Kn9dKVfYj3HptSzUCCCCAAAKVEMjDbSU2Zg7cCPy8RquSH+HWa0uqEUAAAQQQqIRAlcJFJUAa3Aj8GgTr8vEq+RFuvbakGgEEEEAAgUoIVClcVAKkwY3Ar0Ewwq0HRjUCCCCAAAIIzF6AcOb1EPzq48fIrdeWVCOAAAIIIFAJAcKZ1wz41cePcOu1JdUIIIAAAghUQoBw5jUDfvXxI9x6bUk1AggggAAClRAgnHnNgF99/Ai3XltSjQACCCCAQCUECGdeM+BXHz/CrdeWVCOAAAIIIFAJAcKZ1wz41cePcOu1JdUIIIAAAghUQoBw5jUDfvXxI9x6bUk1AggggAAClRAgnHnNgF99/Ai3XltSjQACCCCAQCUECGdeM2ywwQZx8803eyvpwdVV6n+E2x7cEdl1BBBAAIH6CFQpXMyJqvh5rVYlP8Kt15ZUI4AAAgggUAmBKoWLSoA0uBH4NQjW5eNV8iPcem1JNQIIIIAAApUQqFK4qARIgxuBX4NghFsPjGoEEEAAAQQQmL0A4czrIfjVx4+RW68tqUYAAQQQQKASAoQzrxnwq48f4dZrS6oRQAABBBCohADhzGsG/OrjR7j12pJqBBBAAAEEKiFAOPOaAb/6+BFuvbakGgEEEEAAgUoIEM68ZsCvPn6EW68tqUYAAQQQQKASAoQzrxnwq48f4dZrS6oRQAABBBCohADhzGsG/OrjR7j12pJqBBBAAAEEKiFAOPOaAb/6+BFuvbakGgEEEEAAgUoIEM68ZsCvPn6EW68tqUYAAQQQQKASAoQzrxnwq48f4dZrS6oRQAABBBCohADhzGsG/OrjR7j12pJqBBBAAAEEKiFAOPOaAb/6+BFuvbakGgEEEEAAgUoIEM68ZsCvPn6EW68tqUYAAQQQQKASAoQzrxnwq48f4dZrS6oRQAABBBCohADhzGsG/OrjR7j12pJqBBBAAAEEKiFAOPOaAb/6+BFuvbakGgEEEEAAgUoIjBo1Ko455phKbMucuBH4ea1WJT/CrdeWVCOAAAIIIIAAAghUSIBwW6HGYFMQQAABBBBAAAEEPAHCredHNQIIIIAAAggggECFBAi3FWoMNgUBBBBAAAEEEEDAEyDcen5UI4AAAggggAACCFRIgHBbocZgUxBAAAEEEEAAAQQ8AcKt50c1AggggAACCCCAQIUECLcVagw2BQEEEEAAAQQQQMATINx6flQjgAACCCCAAAIIVEiAcFuhxmBTEEAAAQQQQAABBDwBwq3n11T1NddcE1tuuWU8//zzscQSSzS1jp5chJ/X+vjh5wlQjQACCFRbgHBbQvsQLjx0/PDzBLxq+p/nRzUCCCDQagHCbauFZ7J+Lo4eOn74eQJeNf3P86MaAQQQaLUA4bbVwrMJt3feeWeMGDEibrvttlh00UXj6KOPjt13372ELZqzvjIPF/g11274NeeWV+Hn+VHtCzz++ONxyCGHxB133BHvv/9+rLjiinH88cfHxhtv7K+8B6wBP6+R5wQ/wq3Xxk1V5xfH1VdfPfbbb79YYYUV4rTTTotLLrkkHnnkkVhmmWWaWm9PKcLPa2n88PMEqC5bYNlllw1dP4488sjo379/XHbZZdlAyVNPPcV7HAUaB78CSLP5yJzgR7j12rip6jxcnHPOObHXXntl63jllVdikUUWifPPPz922223ptbbU4rw81oaP/w8AarLFHjttddioYUWiuuvvz422WSTjk255557Yvnll4955523zM2r/Hfj5zXRnOJHuPXauanqPFxolHa55ZbrWEe/fv1izJgxcfDBBze13p5ShJ/X0vjh5wlQXabA9OnTY5VVVolXX3019tlnnxg0aFCsttpqMddcc5W5WXPMd+PnNdWc4ke49dq5qepZvZCix0uaN6W5VJ2XfffdN26//fa4//77m/q+uhUV9XvwwQdj//33D/05zzzzxE477RQnnXRSzD333HUjaWh/ivrde++9ceCBB8bDDz+cPfrcYYcd4uSTT47evXs39H11+3BRv3y/P/zww1hnnXXi9ddfj8cee6xuHOxPCQIaPdO14qqrropnn302e2dj1KhRHU8CuX7MvlGK+HH9mLVhEb+yrx+E2xJOTEUujro7evrpp+OUU06JSy+9NJZaainC7X/bqojfBx98EEsvvXToxuDwww+PF198MTbccMNsjrMCb09eivjpJZUll1wym8cnM/mtt956MWzYsDjggAN6Ml8U8esMdOKJJ8a4ceOyvyLc9uiu05Kdf+KJJ+K8887LbjyvvPLK2HbbbYPrR3Hqmflx/fD8qnD9INwWb8NknyxycbzpppuyIDF48OAYOHBgnHvuuYTbBsKtRsnOPvvsbIpH3759s0o9wps2bVp2IejJS5H+N2nSpLjwwgszv169emVcmh+uUe+zzjqrJ/M1FG4feuih2HXXXTNHjbQRbnt010my8zo29UsxW2211Qzr03zbIUOGxFFHHRVcP2ZNXcSP64fnV4XrB+E2yemmsZUUCRed13jBBRfE6aefTrhtINx2bZF33nknVlpppezR3S677NJYg9Xs0432P90Q3HrrrTF06NC4+OKLY/3116+ZSGO7U9RPbmuvvXZ2M/DMM89kP/VHuG3Mmk9/XEDvaqy88srZFKutt946u+GcOHFiNhhyyy23xBprrDFDEdePGQ0b9VM114//M2zUr6zrB+G2hLNn0YtjvmmcnGZspEb9dGLSozq9Raw5avlIZAlNX4mvbMTv7rvvjrXWWiubZ3vCCSfwsmNE4ZHbkSNHZm768/LLLyfcVqL312Mjrr766uzl40cffTSbgqAXkzViu80223xsB7l+fLzNG/Hj+tG8X5nXD8LtHHCu4+TUfCNpruiWW26Z/ci5piP06dOn+ZX10ErNP3vggQeyaR36kXhdVFlmL6CfZdLcZI14K+ASbukxZQlw/WhenutH83Z5ZVnXD8Kt33YtXwMnp+aI9RbxBhtsEHvuuWc2qsFSXEAjQv/zP/8zw0itpiRoWodewGCZvcBhhx0WF110Uejn/bS8++672a8lLL744nHffffFggsuCCECbRHg+tEcM9eP5txUVYXrB+G2+fZrWyUnp8app06dGquuumr281Wa68jSmMBzzz2XPerUi4w777xzvPHGG9lPqS2wwALZr3ewNCbAyG1jXnw6nQDXj8YtuX40bta5ogrXD8Kt14Ytq77rrrti8803z9Y/ZcqUeO+997JgoUVvYC+22GIt++46rPjaa6+NLbbYIhsh6/zj5vrxc718wdK9wI033pjdGPzjH//IpnPox+L1YuPCCy/cfTGfmEGAcEuHaKcA1w9Pm+uH56fqsq8fhFu/DVkDAggggAACCCCAQEUECLcVaQg2AwEEEEAAAQQQQMAXINz6hqwBAQQQQAABBBBAoCIChNuKNASbgQACCCCAAAIIIOALEG59Q9aAAAIIIIAAAgggUBEBwm1FGoLNQAABBBBAAAEEEPAFCLe+IWtAAAEEEEAADxkcOgAAIABJREFUAQQQqIgA4bYiDcFmIIAAAggggAACCPgChFvfkDUggAACCCCAAAIIVESAcFuRhmAzEEAAAQQQQAABBHwBwq1vyBoQQAABBBBAAAEEKiJAuK1IQ7AZCCCAAAIIIIAAAr4A4dY3ZA0IIIAAAggggAACFREg3FakIdgMBBBAAAEEEEAAAV+AcOsbJlvDtGnTYujQoTFu3Ljo06dPsvX2lBXh57U0fvh5AlSXKcDx6+njVy8/wq3Xnkmrx4wZE6NGjYqRI0fG8OHDk667J6wMP6+V8cPPE6C6TAGOX08fv3r5EW699kxa3b9//5gyZUr07ds3+5OlMQH8GvPq+mn88PMEqC5TgOPX08evXn6EW689k1XrrnH06NFZqO3Xr1+MGDGC0dsGdPFrAGsmH8UPP0+A6jIFOH49ffzq50e49do0WXV+15ivkNHbxmjxa8xrVqO29L/mHOl/zblRlUaA/uc54lc/P8Kt16ZJqjvfNeYrZPS2OC1+xa1m9kn88PMEqC5TgOPX08evnn6EW69dk1QryPbu3TsGDBgQkyZNioEDB8bkyZNDb29OnTo1yXfUeSX4ea2LH36eANVlCnD8evr41dOPcOu1q109ceLEGDx4cIwdOzaGDBkSvXr1iunTp8f48eNj2LBhMWHChBg0aJD9PXVdAX5ey+KHnydAdZkCHL+ePn719SPcem2bvDoPt8lX3ENWiJ/X0Pjh5wlQXaYAx6+nj199/Ai3Xlsmr+bg8kjxw88T8Krpf54f1Z4A/Q8/T8CrrlL/I9x6bZm8ukqdI/nOtWGF+HnI+OHnCVBdpgDHr6ePX338CLdeWyav5uDySPHDzxPwqul/nh/VngD9Dz9PwKuuUv8j3Hptmby6Sp0j+c61YYX4ecj44ecJUF2mAMevp49fffwIt15bJq/m4PJI8cPPE/Cq6X+eH9WeAP0PP0/Aq65S/yPcem2ZvLpKnSP5zrVhhfh5yPjh5wlQXaYAx6+nj199/Ai3Xlsmr+bg8kjxw88T8Krpf54f1Z4A/Q8/T8CrrlL/I9x6bZm8ukqdI/nOtWGF+HnI+OHnCVBdpgDHr6ePX338CLdeWyav5uDySPHDzxPwqul/nh/VngD9Dz9PwKuuUv8j3Hptmby6Sp0j+c61YYX4ecj44ecJUF2mAMevp49fffwIt15bJq/m4PJI8cPPE/Cq6X+eH9WeAP0PP0/Aq65S/yPcem2ZvLpKnSP5zrVhhfh5yPjh5wlQXaYAx6+nj199/Ai3Xlsmr+bg8kjxw88T8Krpf54f1Z4A/Q8/T8CrrlL/I9x6bZm8ukqdI/nOtWGF+HnI+OHnCVBdpgDHr6ePX338CLdeWyav5uDySPHDzxPwqul/nh/VngD9Dz9PwKuuUv8j3Hptmby6Sp0j+c61YYX4ecj44ecJUF2mAMevp49fffwIt15bJq/m4PJI8cPPE/Cq6X+eH9WeAP0PP0/Aq65S/yPcem2ZvLpKnSP5zrVhhfh5yPjh5wlQXaYAx6+nj199/Ai3Xlsmr+bg8kjxw88T8Krpf54f1Z4A/Q8/T8CrrlL/I9x6bZm8ukqdI/nOtWGF+HnI+OHnCVBdpgDHr6ePX338CLdeWyav5uDySPHDzxPwqul/nh/VngD9Dz9PwKuuUv8j3Hptmby6Sp0j+c61YYX4ecj44ecJUF2mAMevp49fffwIt15bJq/m4PJI8cPPE/Cq6X+eH9WeAP0PP0/Aq65S/yPcem2ZvLpKnSP5zrVhhfh5yPjh5wlQXaYAx6+nj199/Ai3Xlsmr+bg8kjxw88T8Krpf54f1Z4A/Q8/T8CrrlL/I9x6bZm8ukqdI/nOtWGF+HnI+OHnCVBdpgDHr6ePX338CLdeWyav5uDySPHDzxPwqul/nh/VngD9Dz9PwKuuUv8j3Hptmby6Sp0j+c61YYX4ecj44ecJUF2mAMevp49fffwIt15bJq/m4PJI8cPPE/Cq6X+eH9WeAP0PP0/Aq65S/yPcem2ZvLpKnSP5zrVhhfh5yPjh5wlQXaYAx6+nj199/Ai3XlvGcdf8wFxD68tHbHFO67+kyW9I7Xfzb+6NDXZatcmtmXkZfh4nfvX1u377bb2da0P1ppdd1YZvae4rhp12S3OFbaw688D12/htjX0Vfo15df10nf0It17fyMLtdl/b31xL68qv+OsZUfVwgV/z7U//a95Olfh5fgq36x91tLeSFlbfMub4qHq43X/ndVso4K36jEv+N6oebvFrvo0VbuvqR7htvl9klVwcPUD88PMEvGr6n+dHuPX86hwuPJli1fgVc5rVp+rsR7j1+gbhFj9TwCsnnOHnCXjVhFvPr87hwpMpVo1fMSfCrefUI6sJF16z44efJ+BV0/88P8Kt50c4w88T8Krr3P8YufX6BiO3+JkCXjnhDD9PwKsm3Hp+dQ4XnkyxavyKOTFy6zn1yGrChdfs+OHnCXjV9D/Pj3Dr+RHO8PMEvOo69z9Gbr2+wcgtfqaAV044w88T8KoJt55fncOFJ1OsGr9iTozcek49sppw4TU7fvh5Al41/c/zI9x6foQz/DwBr7rO/Y+RW69vMHKLnynglRPO8PMEvGrCredX53DhyRSrxq+YEyO3nlOPrCZceM2OH36egFdN//P8CLeeH+EMP0/Aq65z/2tq5Paaa66JLbfcMp5//vlYYoklPN05vJqLo9eA+OHnCXjV9D/Pj3Dr+dU5XHgyxarxK+bEyG1BJ8Lt/0FxcSzYaWbxMfzw8wS8avqf50e49fwIZ/h5Al51nfsfI7de32DOLX6mgFdOOMPPE/CqCbeeX53DhSdTrBq/Yk6M3BZ0ykdu77zzzhgxYkTcdtttseiii8bRRx8du+++e8G11ONjhAuvHfHDzxPwqul/nh/h1vMjnOHnCXjVde5/1sjt6quvHvvtt1+ssMIKcdppp8Ull1wSjzzySCyzzDKe+BxUzcXRayz88PMEvGr6n+eXItzecPvtsdV++890QyacekpstcH6TW/kLWOOj00vu6rp+lYX1jlctNpO68fPU66znxVuzznnnNhrr70y3VdeeSUWWWSROP/882O33XbzxCtSPW3atLj88stj++23j969e890q7g4zr6xbrzxxhg0aNAsP4Qffq083Ol/nm53finC7bvvvR//fuXlGTb06DPOjNvvfyDuvOTiWGyRhZveibLDbXd+dQ4XTTdap0L8PMWe7GeFW43SLrfcch36/fr1izFjxsTBBx/stUiFqjXd4uWXX45DDjkkTjrppI9tGeFs9o01//zzx5QpU+LYY4+NI444Ar8G+zZ+DYJ1+Th+rfVLEW67buGl1/0xvn/MMXHd2WfFul/9qrUDZYfb7vof4da7fuCH36wErHDb9afA+vfvH8cff3wWBLU8+uijsffee8d9990XAwYMiGHDhsWRRx5pnazaXXzllVfGLrvsEh999FG8//77MXz48Gwf84VwO/sWGTduXOy7777x4YcfRq9eveKYY46ZIeTih18rj2n6n6fbnV/qcPvQE/+I9Xb7Xhw3bL/44U47ehsfEWWH2+78CGfe+Q8//NoebhUGNar73e9+Nwu0zz77bKy//vpx+umnZ4/5iy5vvvlmXH/99THXXHN1/DP33HPP8L/z/9bo36uuSM2KK64YL730UrbJGp3+4IMPshfpNBL5kxv3j+2+NvP5YkX3sZWfu+KvZ8SILc5p5Vd0u25NV9G0ldwvD7ka4f/x9fvh140gft12sdl+AL/W+d2083di/aOO9r7gv9Wvv/VWrDVkl1hj5ZXj/OOPS7LOssOtdmJ2/e+gsX+J/XdeN8m+tmIlZ1zyv3Hmgc3PeU6xTfh5ij3Vr2Ujt/olhc022yx7pK8AqeWEE06Iu+66K37/+98Xbq0XXnghm+agsJz/o1HAzv+72b9XXZF1acT2nXfemWGbNUo9ZMiQWHLruSofzkZu+cvC3u36YJ8+fWLHHXeML35nHvyaQMevCbROJfil8fvue28nCbc6F297wI/ipVdejVvO/1XM07+/t4H/rVa4/eblv0uyrpQryfvf/F/ZvfLhduxBG6Tc9STrws9jnJP8mr25alm41YtleuFMITdfrrrqqjj00EPjySef9FqmzdXzzTdfvP3229m3anqFXi7T3OI999wzTvzjDysfzqo0ctu3b9+O6Qm6aTnphmH4ddOfO99549f4wY9f42adK2bnd/N3d0gSbkf94qw457LL4/bxF8ZnF1/c2+BO1VUbue16/B7889srH26bDRepGnF2/Q+/7pV7ql/Lwu2ZZ54Zmq+qt/V0l6C5lmuuuWYMHTq04xF/981S/ie0H/k8YY3W6qWyPfbYo2PDmDM6+zbK55xpKkc+HaHzvGv88GvlUU7/83S780sx5/Z//vy/sd2BB8Vphx0ag9Zac4YNnm/AgFhkwQWb3omyw213fswZ9c5/+OE3K4Gmwm2RM41Gbs8444y49957Y//998+mKLz11lvZXNV//OMfRVZRic9o1FbzbE899dTYddddP7ZNhLPZN5PeFta0Dv1awsxeJsQPv1Ye6PQ/T7c7vxThdr8TxsR5V1w50w39/nbfjrHDj2p6J8oOt935Ec688x9++LU93N59992x0UYbZXNuNeKp5aijjorHHnssG9GdU5Y77rgjG3Ge1UI4m31L3nDDDbHJJpvg12SHx69JuP+W4ddavxTh1tvC2VeXHW6763+EM+/6gR9+bQ+3ekFgpZVWiq222ipGjRoVjz/+eGy88cbZ/8mDRnHrshBuvZbEDz9PwKum/3l+hFvPj3CGnyfgVde5/7VsWoLINf1AL13dc889scACC8Thhx+e/dZtnRYujl5r4oefJ+BV0/88P8Kt51fncOHJFKvGr5jTrD5VZ7+WhluPfc6o5uLotRN++HkCXjX9z/Mj3Hp+dQ4XnkyxavyKORFuPaceWc3F0Wt2/PDzBLxq+p/nR7j1/Ahn+HkCXnWd+x8jt17fCC6OHiB++HkCXjX9z/Mj3Hp+dQ4XnkyxavyKOTFy6zn1yGoujl6z44efJ+BV0/88P8Kt50c4w88T8Krr3P8YufX6BiO3+JkCXjnhDD9PwKsm3Hp+dQ4XnkyxavyKOTFy6zn1yGrChdfs+OHnCXjV9D/Pj3Dr+RHO8PMEvOo69z9Gbr2+wcgtfqaAV044w88T8KoJt55fncOFJ1OsGr9iTozcek49sppw4TU7fvh5Al41/c/zI9x6foQz/DwBr7rO/Y+RW69vMHKLnynglRPO8PMEvGrCredX53DhyRSrxq+YEyO3nlOPrCZceM2OH36egFdN//P8CLeeH+EMP0/Aq65z/2Pk1usbjNziZwp45YQz/DwBr5pw6/nVOVx4MsWq8SvmxMit59QjqwkXXrPjh58n4FXT/zw/wq3nRzjDzxPwquvc/xi59foGI7f4mQJeOeEMP0/Aqybcen51DheeTLFq/Io5MXLrOfXIaoWLqi8jtjinspuIn9c0+OHnCXjVCrdVXza97KrKbqLCWdWXMw9cv7KbiJ/XNHX2Y+TW6xtJq6dNmxZDhw6NcePGRZ8+fZKuuyesDD+vlfHDzxOgukwBjl9PH796+RFuvfZMWj1mzJgYNWpUjBw5MoYPH5503T1hZfh5rYwffp4A1WUKcPx6+vjVy49w67Vn0ur+/fvHlClTom/fvtmfLI0J4NeYV9dP44efJ0B1mQIcv54+fvXyI9x67ZmsWneNo0ePzkJtv379YsSIEYzeNqCLXwNYM/kofvh5AlSXKcDx6+njVz8/wq3Xpsmq87vGfIWM3jZGi19jXrMataX/NedI/2vOjao0AvQ/zxG/+vkRbr02TVLd+a4xXyGjt8Vp8StuNbNP4oefJ0B1mQIcv54+fvX0I9x67ZqkWkG2d+/eMWDAgJg0aVIMHDgwJk+eHHp7c+rUqUm+o84rwc9rXfzw8wSoLlOA49fTx6+efoRbr13t6okTJ8bgwYNj7NixMWTIkOjVq1dMnz49xo8fH8OGDYsJEybEoEGD7O+p6wrw81oWP/w8AarLFOD49fTxq68f4dZr2+TVebhNvuIeskL8vIbGDz9PgOoyBTh+PX386uNHuPXaMnk1B5dHih9+noBXTf/z/Kj2BOh/+HkCXnWV+h/h1mvL5NVV6hzJd64NK8TPQ8YPP0+A6jIFOH49ffzq40e49doyeTUHl0eKH36egFdN//P8qPYE6H/4eQJedZX6H+HWa8vk1VXqHMl3rg0rxM9Dxg8/T4DqMgU4fj19/OrjR7j12jJ5NQeXR4offp6AV03/8/yo9gTof/h5Al51lfof4dZry+TVVeocyXeuDSvEz0PGDz9PgOoyBTh+PX386uNHuPXaMnk1B5dHih9+noBXTf/z/Kj2BOh/+HkCXnWV+h/h1mvL5NVV6hzJd64NK8TPQ8YPP0+A6jIFOH49ffzq40e49doyeTUHl0eKH36egFdN//P8qPYE6H/4eQJedZX6H+HWa8vk1VXqHMl3rg0rxM9Dxg8/T4DqMgU4fj19/OrjR7j12jJ5NQeXR4offp6AV03/8/yo9gTof/h5Al51lfof4dZry+TVVeocyXeuDSvEz0PGDz9PgOoyBTh+PX386uNHuPXaMnk1B5dHih9+noBXTf/z/Kj2BOh/+HkCXnWV+h/h1mvL5NVV6hzJd64NK8TPQ8YPP0+A6jIFOH49ffzq40e49doyeTUHl0eKH36egFdN//P8qPYE6H/4eQJedZX6H+HWa8vk1VXqHMl3rg0rxM9Dxg8/T4DqMgU4fj19/OrjR7j12jJ5NQeXR4offp6AV03/8/yo9gTof/h5Al51lfof4dZry+TVVeocyXeuDSvEz0PGDz9PgOoyBTh+PX386uNHuPXaMnk1B5dHih9+noBXTf/z/Kj2BOh/+HkCXnWV+h/h1mvL5NVV6hzJd64NK8TPQ8YPP0+A6jIFOH49ffzq40e49doyeTUHl0eKH36egFdN//P8qPYE6H/4eQJedZX6H+HWa8vk1VXqHMl3rg0rxM9Dxg8/T4DqMgU4fj19/OrjR7j12jJ5NQeXR4offp6AV03/8/yo9gTof/h5Al51lfof4dZry+TVVeocyXeuDSvEz0PGDz9PgOoyBTh+PX386uNHuPXaMnk1B5dHih9+noBXTf/z/Kj2BOh/+HkCXnWV+h/h1mvL5NVV6hzJd64NK8TPQ8YPP0+A6jIFOH49ffzq40e49doyeTUHl0eKH36egFdN//P8qPYE6H/4eQJedZX6H+HWa8vk1VXqHMl3rg0rxM9Dxg8/T4DqMgU4fj19/OrjR7j12jJ5NQeXR4offp6AV03/8/yo9gTof/h5Al51lfof4dZry+TVVeocyXeuDSvEz0PGDz9PgOoyBTh+PX386uNHuPXaMh69bgdzDa0vX+5bv239lzT5Dfg1CfffMvzw8wSoLlOA49fTxw+/WQkQbr2+kYXb5dY5zFxL68ofve0nUfVwi1/z7U//a95Olfh5flR7AvQ//DwBr7rO/Y9w6/UNLo74mQJeeZ1PTp5MsWr8ijnxqdYI0P88V/zwY+TW6wOzrObg8mDxw88T8Krpf54f1Z4A/Q8/T8CrrnP/Y+TW6xuM3OJnCnjldT45eTLFqvEr5sSnWiNA//Nc8cOPkVuvDzByi1+LBLzVcnLHzxOgukwBjl9PHz/8CLdeHyDc4tciAW+1nNzx8wSoLlOA49fTxw8/wq3XBwi3+LVIwFstJ3f8PAGqyxTg+PX08cOPcOv1AcItfi0S8FbLyR0/T4DqMgU4fj19/PAj3Hp9gHCLX4sEvNVycsfPE6C6TAGOX08fP/wIt14fINzi1yIBb7Wc3PHzBKguU4Dj19PHDz/CrdcHCLf4tUjAWy0nd/w8AarLFOD49fTxw49w6/UBwi1+LRLwVsvJHT9PgOoyBTh+PX388CPcen2AcItfiwS81XJyx88ToLpMAY5fTx8//Ai3Xh8g3OLXIgFvtZzc8fMEqC5TgOPX08cPP8Kt1wcIt/i1SMBbLSd3/DwBqssU4Pj19PHDj3Dr9QHCLX4tEvBWy8kdP0+A6jIFOH49ffzwI9x6fYBwi1+LBLzVcnLHzxOgukwBjl9PHz/8CLdeHyDc4tciAW+1nNzx8wSoLlOA49fTxw8/wq3XBwi3+LVIwFstJ3f8PAGqyxTg+PX08cOPcOv1AcItfi0S8FbLyR0/T4DqMgU4fj19/PAj3Hp9gHCLX4sEvNVycsfPE6C6TAGOX08fP/wIt14fINzi1yIBb7Wc3PHzBKguU4Dj19PHDz/CrdcHCLf4tUjAWy0nd/w8AarLFOD49fTxw49w6/UBwi1+LRLwVsvJHT9PgOoyBTh+PX388CPcen2AcItfiwS81XJyx88ToLpMAY5fTx8//Ai3Xh8g3OLXIgFvtZzc8fMEqC5TgOPX08cPP8Kt1wcIt/i1SMBbLSd3/DwBqssU4Pj19PHDj3Dr9QHCLX4tEvBWy8kdP0+A6jIFOH49ffzwI9x6fYBwi1+LBLzVcnLHzxOgukwBjl9PHz/8CLdeHyDc4tciAW+1nNzx8wSoLlOA49fTxw8/wq3XBwi3+LVIwFstJ3f8PAGqyxTg+PX08cOPcOv1AcItfi0S8FbLyR0/T4DqMgU4fj19/PAj3Hp9gHCLX4sEvNVycsfPE6C6TAGOX08fP/wIt14fINzi1yIBb7Wc3PHzBKguU4Dj19PHDz/CrdcHCLf4tUjAWy0nd/w8AarLFOD49fTxw49w6/UBwi1+LRLwVsvJHT9PgOoyBTh+PX388CPcen2AcItfiwS81XJyx88ToLpMAY5fTx8//Ai3Xh8g3OLXIgFvtZzc8fMEqC5TgOPX08cPP8Kt1wcIt/i1SMBbLSd3/DwBqssU4Pj19PHDj3Dr9YHZhtsWrTrZapf71m+TrSv1inRyqvqCn9dC+NXXz9szqjn/eX0AP/wIt14faEv1tGnTYujQoTFu3Ljo06dPW76zTl+Cn9ea+OHnCVBdpgDHr6ePX738ek2fPn26t0tUpxIYM2ZMjBo1KkaOHBnDhw9Ptdoesx78vKbGDz9PgOoyBTh+PX386uVHuPXaM2l1//79Y8qUKdG3b9/sT5bGBPBrzKvrp/HDzxOgukwBjl9PH796+RFuvfZMVq27xtGjR2ehtl+/fjFixAhGbxvQxa8BrJl8FD/8PAGqyxTg+PX08aufH+HWa9Nk1fldY75CRm8bo8WvMa9ZjdrS/5pzpP8150ZVGgH6n+eIX/38CLdemyap7nzXmK+Q0dvitPgVt5rZJ/HDzxOgukwBjl9PH796+hFuvXZNUq0g27t37xgwYEBMmjQpBg4cGJMnTw69vTl16tQk31HnleDntS5++HkCVJcpwPHr6eNXTz/CrdeudvXEiRNj8ODBMXbs2BgyZEj06tUr9AMW48ePj2HDhsWECRNi0KBB9vfUdQX4eS2LH36eANVlCnD8evr41dePcOu1bfLqPNwmX3EPWSF+XkPjh58nQHWZAhy/nj5+9fEj3Hptmbyag8sjxQ8/T8Crpv95flR7AvQ//DwBr7pK/Y9w67Vl8uoqdY7kO9eGFeLnIeOHnydAdZkCHL+ePn718SPcem2ZvJqDyyPFDz9PwKum/3l+VHsC9D/8PAGvukr9j3DrtWXy6ip1juQ714YV4uch44efJ0B1mQIcv54+fvXxI9x6bZm8moPLI8UPP0/Aq6b/eX5UewL0P/w8Aa+6Sv2PcOu1ZfLqKnWO5DvXhhXi5yHjh58nQHWZAhy/nj5+9fEj3Hptmbyag8sjxQ8/T8Crpv95flR7AvQ//DwBr7pK/Y9w67Vl8uoqdY7kO9eGFeLnIeOHnydAdZkCHL+ePn718SPcem2ZvJqDyyPFDz9PwKum/3l+VHsC9D/8PAGvukr9j3DrtWXy6ip1juQ714YV4uch44efJ0B1mQIcv54+fvXxI9x6bZm8moPLI8UPP0/Aq6b/eX5UewL0P/w8Aa+6Sv2PcOu1ZfLqKnWO5DvXhhXi5yHjh58nQHWZAhy/nj5+9fEj3Hptmbyag8sjxQ8/T8Crpv95flR7AvQ//DwBr7pK/Y9w67Vl8uoqdY7kO9eGFeLnIeOHnydAdZkCHL+ePn718SPcem2ZvJqDyyPFDz9PwKum/3l+VHsC9D/8PAGvukr9j3DrtWXy6ip1juQ714YV4uch44efJ0B1mQIcv54+fvXxI9x6bZm8moPLI8UPP0/Aq6b/eX5UewL0P/w8Aa+6Sv2PcOu1ZfLqKnWO5DvXhhXi5yHjh58nQHWZAhy/nj5+9fEj3Hptmbyag8sjxQ8/T8Crpv95flR7AvQ//DwBr7pK/Y9w67Vl8uoqdY7kO9eGFeLnIeOHnydAdZkCHL+ePn718SPcem2ZvJqDyyPFDz9PwKum/3l+VHsC9D/8PAGvukr9j3DrtWXy6ip1juQ714YV4uch44efJ0B1mQIcv54+fvXxI9x6bZm8moPLI8UPP0/Aq6b/eX5UewL0P/w8Aa+6Sv2PcOu1ZfLqKnWO5DvXhhXi5yHjh58nQHWZAhy/nj5+9fEj3Hptmbyag8sjxQ8/T8Crpv95flR7AvQ//DwBr7pK/Y9w67Vl8uoqdY7kO9eGFeLnIeOHnydAdZkCHL+ePn718SPcem2ZvJqDyyPFDz9PwKum/3l+VHsC9D/8PAGvukr9j3DrtWXy6ip1juQ714YV4uch44efJ0B1mQIcv54+fvXxI9x6bZm8moPLI8UPP0/Aq6b/eX5UewL0P/w8Aa+6Sv2PcOu1ZfLqKnWO5DvXhhXi5yHjh58nQHWZAhy/nj5+9fEj3Hptmbyag8sjxQ8/T8Crpv95flR7AvQ//DwBr7pK/Y9w67Vl8uoqdY7kO9eGFeLnIeOHnydAdZkCHL+ePn718SPcem2ZvJqDyyPFDz9PwKum/3lsr6XvAAARSklEQVR+VHsC9D/8PAGvukr9j3DrtWXy6ip1juQ714YV4uch44efJ0B1mQIcv54+fvXxI9x6bZm8moPLI8UPP0/Aq6b/eX5UewL0P/w8Aa+6Sv2PcOu1ZfLqKnWO5DvXhhXi5yHjh58nQHWZAhy/nj5+9fEj3Hptmbyag8sjxQ8/T8Crpv95flR7AvQ//DwBr7pK/Y9w67Vl8uoqdY7kO9eGFeLnIeOHnydAdZkCHL+ePn718SPcem2ZvJqDyyPFDz9PwKum/3l+VHsC9D/8PAGvukr9j3DrtWXy6ip1juQ714YV4uch44efJ0B1mQIcv54+fvXxI9x6bZm8etSoUXHMMcckX29PWSF+Xkvjh58nQHWZAhy/nj5+9fEj3HptSTUCCCCAAAIIIIBAhQQItxVqDDYFAQQQQAABBOZcgfXXXz8WXXTRuPTSS+fcnWjxlvfu3Tv23nvvGDt2bMu+iXDbMlpW3G6BvfbaK5ZZZpk45JBD2v3VfB8CCCCAAAJBuO2+ExxwwAGxzjrrxPbbb9/9h5v8BOG2SbhZld1+++3xwAMPxD777JN4zcVWd+GFF8Ziiy0WgwYNKlZQo0+ttNJKMXToUMJtk2360UcfxVxzzdVkdT3KOH7r0Y5z6l7Q/+bUlvu/7e4J4XZOuFYQbhMcS9OmTYvLLrssTj/99Pj73/8eo0ePjoMPPjhb89tvvx2HH354/P73v49XXnklllpqqdhvv/1i2LBhM3zzY489loWyP//5z/HBBx/EV7/61RgzZkx84xvfmOFzP/3pT+Pss8+O559/PhZccMHYbrvt4ic/+UnMM8882ecuuOCC+NGPfhRLLLFE6O5oyJAhHf8twa4mXcXJJ58cp512Wrz55pux6aabZk5rrLFG3H333fG1r30tJk+eHJ/4xCfioosuyvYjX775zW+GHmtcc8012V9NnDhxpmF+hRVWiIcffniGbVYb/fznP4/nnnsuuwnYc889Y/jw4aG3ZLW8/vrr8clPfjKuvvrquOqqq7J/+vTpk91h/uxnP8v+vd3L/PPPHyeccEKceOKJ0b9///jd736XPdJRXzvllFPi+9//frZJ06dPz/73OeecE//85z9jkUUWiR122CGr69evX8dmH3XUUZmdnNVPr7jiivjPf/6T9aXLL7+843PdtY8+qDZSu2kdsvvSl74Ueiljm2226ViPDLVube8Pf/jDuPPOO7NtO/LII7P9KHuZ3fFbZP+0/T3x+C273ery/Vw/0rTke++9F/vuu29ceeWV2fVBT/I++9nPxkEHHRTvvPNOx5e89dZbcdhhh2Xndp2zPve5z2Wf0ec7L9dee20ce+yx8dBDD2XX0I022ih0/V1yySU7Pvb444/HHnvsEffcc082FUHn1t/85jfxqU99qpRpCVtvvXUsv/zy2TXxySefzLZF52b9ueOOO8Z5553Xse1F9q/ItaLo+V3Xls4jtboWdJ2W0Mj1t7vrE+HWOK5effXVLEgoLClYqLE0YqtwlC8/+MEP4q9//WucddZZWZi67777Ytddd41zzz03vvOd72QfU+hVh1QwUIPpQFIgUYi5//77Y9lll80+pw6q9Y8fPz5WXnnlePHFF0PrX3vtteMXv/hFx3cqUP/qV7/KwpguzjpotW2f/vSnjb1NW6rwqACkk4cOuptuuilzVACS0SqrrFI43OrE9cwzz8TXv/717OS22267ZRurIPiFL3yhY8MV/I444og46aSTYquttsrCncKVTnQjRozIPpcH6s9//vNx/PHHh04WN998c2yxxRbZTUXXE2BalZmvbeGFF85uiv74xz9mNzu6GVA4veSSS7IT9FNPPZUV6qZKIVg3DBq5V9/R9sr5/PPP71i5+pFGuPXfnn322TjwwAMzq759+2Y3FVqKtI8+Jxc5ymbFFVeMiy++OHP705/+lD2e06Jt3XLLLbPHUKeeempohF39W9uq9la/L2MpcvwW2b+eePyW0V51+84i/Y/rR/FW13lM11UFuC9/+ctx5plnZteVl156Kd54442OFW244YbxxBNPZNduXR8UhjXAoXOkzotabrnllizM6nqra8prr72W/Tl16tR48MEHs3Olrvk652lgRNdbnUN1Y3/bbbeFvqOMObeDBw/Orlf6R9d/BVgNIuh6pnOwBj0+85nPFNq/PHN0d60oen7XTYW+X8u2226bDWh1DbdFr79Frk+E2+LHTscn33///dh///2zkPnFL34xCwc777xz1uG7LgqhukBqFDZfHn300VBg0eiVljx0aTRx8cUXz/5Od6EKw9/73veysKJF36k7RD26yheN4OrOX3efXZcPP/wwO3AVKP72t79ld0064DuH7yZ2P0mJRhR116sAli86kf/yl79sONzm9QMGDMjC8szm3OpEpLvpzTbbLBvdzpeRI0dmB5hGLjUqmx9cCn46+eXLqquumoWyzrVJIAqsRH1FI8wKhLoxUvjXaIKCrdpU7a+21ud0o6CgmS/qd9pH7d9CCy2U/bVOfDr56gZC/Wnuuef+2FYUaR8FU53cdVHIbyi0IgXw+eabr2NkPT/5KYzvtNNO2XfpBkyf6VpbgMP+SNHjt+j+9cTj126EHryCov1PRFw/incUnd91ftHTuXzRjXPncKvznW7g85HM/HObbLJJvPzyy9m5VYuu2Ro00LU6X3Td1UCSBp006HHvvffGaqutFn/4wx+yz2vRyKMGkfTfywq3//rXv+KOO+6IX//619mosm6+Nd1M1309GV533XUL7V/Ra0Uz53ddNzT4Matw2931t8j1iXBb/Njp+KQOFgXPQw89NBsFzB9pz2xVmn6gO0k1loKVLvz5FIL88xrB1d2gHm12XjbYYIMstKhDatGwvj777W9/O3SHtvHGG2eBpsiiC7BGKBVyFWrKXnTS/spXvhLjxo3r2BSdNHRH1+jIbb6C2YXbp59+Ort77TrFQXfoctY8aW1THm4VshUo80VTIRR+dSJr96I21oiARt810qzHTXrspJHcb33rW6GLpU7EmobR9aR96623ZicRjaQq0GrJT/Bd97HzfhVpn/zkqRssTYPJF91gnHHGGdloh5b85KfREt0M5otGOjR6m0/haZdr0eO36P71xOO3XW1Vx+8p2v+071w/ivUAnWt0865jVgNC+aIpehqQyEdu9YRT59F///vf2TSCfNH5VU++dC7VeX7gwIHZdbbzQIHmmWoAS4/q9VldSzTY8MILL3QMSml9Cm76p6xwqzyiaZL6fk3n0zRH7Zdyh64ZGjEtsn9FrxXNnN+7C7fdXX+LXJ8It8WOnRk+pY6ik44ewepirfk6umOc2citDgg9HtBnFSzVwXQ3pdHUfP6mQq8Ovs4jsvpCHVwKZZ1HNxWudLej0KIRO3VUPRJR2O66KBhrdE/fpbtMBWLVVmHkVkFT2955OkV+Z9yKcCtDhWmZd35pSiO6etR0ww03ZI/yi87zbaLbNF2icPvjH/84m1urcKupBDpJ5eFWo/y6OVp99dXj+uuvD41C5Iv+Xo/o1A/yebB5uM3v4me2YUXaRyMkemrReT6v1qV+pxOqXOWdn/y6hmCFW01haPevWxQ9fovuX088fpvuzBRmQYPrR9qOoHOL5sL+9re/7Zjup2/Qkyu9k5KHW/273hGYMmXKDNdr3YzrHRWNvC6wwAIx77zzZu+udH7iqvXp2qlAq3ODphpqqoKeQmlgJV/WWmutbFvKCrc6r+qpsr5fT9TU3/Jwe91114UGaorsX+dwO7trRTPn9+7CbXfv2RS5PhFujWNMw/16dK2AppCkF8UUPmYVHvXYQ6Ovmvepu8v88YlCi+bpdB25zecsanSx6/Luu+/GjTfemK1L4aJzAFZAU+DV+nXgadRY21alObfq3Ho81HkuqOYH6fFOHm41l1Ynja4dfb311steNMtfKMttZjdyq0C49NJLZyOKM/slCc1D+n//7//NseFWfVH70HXkNh+Z1lSEvD/l4VZzwfVYbWZLkfbRiIj6sV4Q00tvXRfNFdcoQjMnP+OwLFza3fFbdP964vFbGJkPzlKgu/7XtZDrx6w7kyw1zU/HbD5vVp/W01XNw83DrULfLrvs8rGRWz1t0lMkDRToZTTNxdWT0ZmN3B599NHZ9Dc9dVR47Dpyq/OeBlKqHG6L7F/ncDu7a0Uz53c33Ba5PhFuE5x8NYI6YcKEbIRW8/SOO+64bDRXd4caXdNjb80vzBfd7enRskYLtehFKt01dp5zq2Cn0Vh9VqN2WnT3pEcp+i3XfNH36mDVnZmCROdfS9AcXf23rtMgEuyyvQqNIuqFOL2MlC8yUPjMw61uGHQXqpfstC9aNBqoR+B6eaxruFXA0uR5Bf6ui9al+czf/e53s/Xli17O0o1CPvI9p47c6qmB9kHTOjqfkPOXzCZNmtQRQIuE2yLtoznTmtOmdth88807TDXnS/1dNyBamjn52R2sgRXM6vgtun898fhtgJePdiPA9SNNF9GIqwZyNDqbL5qCp4GNPNzm8+i7DgJoypauA7pR16J3GfRLO53n3Or6q4GVfPRTn11zzTU75uCqTkFXL/+qvsrhtsj+aX+KXCuaOb+74bbI9Ylwm+a46ljLX/7yl+wRsd6y1KNZveilETPdQSp86WDRtAQFOf2dFt0t6k5Kd3x6eUyPzRVKFH714lD+0yOa+qB5i3opTKN0mrulRywKrxr11KLfuVUA7vxoOvEuJlldfterfdForUYWNWVCUzfycKsv0slDoV0/pZbPd9K/a85N13Cru2UtOrnpJSm9mampD3lw1Xdp3rGmaejRjOZdKQzrpKY7U33PnBpudROgmyvtn8KW3vTVjYNO9p2fEhQ9YRVtH/3El06A+k6dsNR2euSqCf9ynhPCbecO3fn41d8X2b+eePwmOQmwko8JcP1ovlPoPKe36BUqdT3V+V7vJmjKQudfS9AAgM5ZemqonwrT5/XSrV6+zqdu6TqkJ4s6l2mOrl7I1QvPutbedddd2fVF06800KSpV5qioBFfjejmv9xT5XBbZP+KXiuKhFvdwOW/6qP16teKNEClUXAtmi+tkfei198i1yfCbfPHUqHKRx55JAscustTwymo6iBUKO0891OhVy/W6O5Qo4wKdRphzAObvkw/paHP6M5Rj6jUGTTfT2/R52/CF9qoCnxI+ygDTZ9Qx9dJRY+T9ChIFvnPQ2m6hU4qCvmaBK9RWQVRjQ5qVLzzIjudiHQDoDlFWofe0Nd0hHzRFBKFQJ2AZKYRR70UmPsVPbjaSVhkzq3CrUwV7DVyqxEETUPRYzOduDv/IkKRu/Gi7aNgpxsEzXXTSx3q3/pOtVP+nUVOfu30bOS7iuyf1tfTjt9GDPls8wJcP4rb6fyz++67Z4NCGkhSMFXg1G/TaiAoX/S0TgNLeg9B11QNKumnwHRD3nnReUvnTo32asqbrhW6Yc9/5Uif1YvIGkDQdUpPBvUOgV7m0rVdvy/b7kXv1RSZc6vtKrJ/Ra4VRc7v+bTAWXko1+il96LX3yLXJ8Jtu3sf39choGkbOvnkIUgnBb15rikZCqcs5QrQPuX68+0IINCYgJ7Cdb52aLBDAU2jrSz1Euju+kS4rVd7zzF7o0dFeuNRP7elKRqaE6oRWt1F6/EQS7kCtE+5/nw7Agg0JqBpAPq9eb1ApqmAmiKlp6R6USx/Z6OxNfLpqgoUuT4Rbqvaej1gu/Q445hjjske6er/Sli/YqBHE0V/u7cHEJW6i7RPqfx8OQIINCigaVn6BSNNW9OLx5rqpmlTekLIUi+B7q5PhNt6tTd7gwACCCCAAAII9GgBwm2Pbn52HgEEEEAAAQQQqJcA4bZe7cneIIAAAggggAACPVqAcNujm5+dRwABBBBAAAEE6iXw/wF1nFYdKZ6H3AAAAABJRU5ErkJggg==)\n",
        "\n",
        "The context vector (red) created by the encoders (green) are used with the decoder (blue) along with a linear layer (purple) in order to generate the target sentence. This is the general encoder-decoder model. "
      ],
      "metadata": {
        "id": "drEQj9Fl7HJ8"
      }
    },
    {
      "cell_type": "markdown",
      "source": [
        "The **RNN Encoder-Decoder** is made up of two Recurrent Neural Networks (RNN). Each RNN plays a role of an encoder and a decoder. \n",
        "1.   **Encoder:** Encodes a sequence of symbols into a fixed length vector representation. Maps a variable-length source sequence to a fixed-length vector. \n",
        "2.   **Decoder:** Decodes the representation into another sequence of symbols. Maps the vector representation back to a variable-length target sequence.\n",
        "*   Both the Encoder & Decoder are trained to **maximize** the conditional probability of a target sequence given a source sequence. The model is used in an SMT to improve translation performance. \n",
        "\n",
        "\n",
        "\n",
        "\n"
      ],
      "metadata": {
        "id": "q9k1RbS38TYB"
      }
    },
    {
      "cell_type": "markdown",
      "source": [
        "The **GRU (Gated Recurrent Unit)** replaces the LSTM (Long Short-Term Memory) model. Hidden state can now eliminate irrelevant information to create a more compact representation. Update gate controls how much information from previous hidden state will be brought into current hidden state. "
      ],
      "metadata": {
        "id": "4MA19cYO9xpt"
      }
    },
    {
      "cell_type": "markdown",
      "source": [
        "# **1. Preparing Data**"
      ],
      "metadata": {
        "id": "ZNH1iPbK_IdF"
      }
    },
    {
      "cell_type": "code",
      "execution_count": null,
      "metadata": {
        "id": "IQ6qekawK8XM"
      },
      "outputs": [],
      "source": [
        "!apt install python 3.7\n",
        "!pip install -U torchtext==0.6.0\n",
        "!python -m spacy download en \n",
        "!python -m spacy download de"
      ]
    },
    {
      "cell_type": "code",
      "source": [
        "import torch \n",
        "import torch.nn as nn \n",
        "import torch.optim as optim\n",
        "\n",
        "from torchtext.datasets import Multi30k\n",
        "from torchtext.data import Field, BucketIterator\n",
        "\n",
        "import spacy\n",
        "import numpy as np\n",
        "\n",
        "import random\n",
        "import math \n",
        "import time \n",
        "\n",
        "# Set random seed for deterministic results\n",
        "SEED = 1234\n",
        "\n",
        "random.seed(SEED)\n",
        "np.random.seed(SEED)\n",
        "torch.manual_seed(SEED)\n",
        "torch.cuda.manual_seed(SEED)\n",
        "torch.backends.cudnn.deterministic = True"
      ],
      "metadata": {
        "id": "xr-sK7LuUcYG"
      },
      "execution_count": null,
      "outputs": []
    },
    {
      "cell_type": "code",
      "source": [
        "# Instantiate German / English spacy models\n",
        "spacy_en = spacy.load('en_core_web_sm')\n",
        "spacy_de = spacy.load('de_core_news_sm')"
      ],
      "metadata": {
        "id": "qnll7yvHU818"
      },
      "execution_count": null,
      "outputs": []
    },
    {
      "cell_type": "markdown",
      "source": [
        "**Tokenizers**\n",
        "\n",
        "Tokenizers help transform a sentence into tokens. \n",
        "  i.e.) \"Hello World!\" --> [\"Hello\", \"World\", \"!\"]\n",
        "\n",
        "\n"
      ],
      "metadata": {
        "id": "0NEELMGiA33x"
      }
    },
    {
      "cell_type": "code",
      "source": [
        "def tokenize_de(text): \n",
        "  # Tokenizes German text from string into a list of strings \n",
        "  return [tok.text for tok in spacy_de.tokenizer(text)]\n",
        "\n",
        "def tokenize_en(text): \n",
        "  # Tokenizes English text from string into a list of strings \n",
        "  return [tok.text for tok in spacy_en.tokenizer(text)]"
      ],
      "metadata": {
        "id": "YJnmLjLzVFh2"
      },
      "execution_count": null,
      "outputs": []
    },
    {
      "cell_type": "markdown",
      "source": [
        "Fields will append \"start of sentence (sos)\" and \"end of sentence (eos)\" tokens and convert all words into lower case."
      ],
      "metadata": {
        "id": "INuu8e_sBeJT"
      }
    },
    {
      "cell_type": "code",
      "source": [
        "SRC = Field(tokenize= tokenize_de,\n",
        "            init_token = '<sos>',\n",
        "            eos_token = '<eos>',\n",
        "            lower = True)\n",
        "\n",
        "TRG = Field(tokenize= tokenize_en,\n",
        "            init_token = '<sos>',\n",
        "            eos_token = '<eos>',\n",
        "            lower = True)"
      ],
      "metadata": {
        "id": "BKDLvB1WWZ-q"
      },
      "execution_count": null,
      "outputs": []
    },
    {
      "cell_type": "markdown",
      "source": [
        "Multi30k dataset contains 30k English, German, French sentences, each sentence consist of 12 words. "
      ],
      "metadata": {
        "id": "TO3vrncGBpuK"
      }
    },
    {
      "cell_type": "code",
      "source": [
        "# Load Data\n",
        "train_data, valid_data, test_data = Multi30k.splits(exts= ('.de', '.en'),\n",
        "                                                    fields = (SRC, TRG))"
      ],
      "metadata": {
        "id": "qeNUOU1fWrFk",
        "colab": {
          "base_uri": "https://localhost:8080/"
        },
        "outputId": "d65b43a8-0cca-40c9-e8c0-3daad40c4c00"
      },
      "execution_count": null,
      "outputs": [
        {
          "output_type": "stream",
          "name": "stdout",
          "text": [
            "downloading training.tar.gz\n"
          ]
        },
        {
          "output_type": "stream",
          "name": "stderr",
          "text": [
            "training.tar.gz: 100%|██████████| 1.21M/1.21M [00:01<00:00, 751kB/s] \n"
          ]
        },
        {
          "output_type": "stream",
          "name": "stdout",
          "text": [
            "downloading validation.tar.gz\n"
          ]
        },
        {
          "output_type": "stream",
          "name": "stderr",
          "text": [
            "validation.tar.gz: 100%|██████████| 46.3k/46.3k [00:00<00:00, 233kB/s]\n"
          ]
        },
        {
          "output_type": "stream",
          "name": "stdout",
          "text": [
            "downloading mmt_task1_test2016.tar.gz\n"
          ]
        },
        {
          "output_type": "stream",
          "name": "stderr",
          "text": [
            "mmt_task1_test2016.tar.gz: 100%|██████████| 66.2k/66.2k [00:00<00:00, 214kB/s]\n"
          ]
        }
      ]
    },
    {
      "cell_type": "code",
      "source": [
        "print(f\"Number of training examples: {len(train_data.examples)}\")\n",
        "print(f\"Number of validation examples: {len(valid_data.examples)}\")\n",
        "print(f\"Number of testing examples: {len(test_data.examples)}\")"
      ],
      "metadata": {
        "colab": {
          "base_uri": "https://localhost:8080/"
        },
        "id": "-0SSsMOmW0DO",
        "outputId": "f9f18336-a8c7-4e0a-9e45-fcf381271a3e"
      },
      "execution_count": null,
      "outputs": [
        {
          "output_type": "stream",
          "name": "stdout",
          "text": [
            "Number of training examples: 29000\n",
            "Number of validation examples: 1014\n",
            "Number of testing examples: 1000\n"
          ]
        }
      ]
    },
    {
      "cell_type": "code",
      "source": [
        "print(len(vars(train_data.examples[0])['src']))\n",
        "print(len(vars(train_data.examples[1])['src']))\n",
        "\n",
        "print(vars(train_data.examples[0]))\n",
        "print(vars(train_data.examples[1]))"
      ],
      "metadata": {
        "colab": {
          "base_uri": "https://localhost:8080/"
        },
        "id": "UIf1JYFGXdh4",
        "outputId": "25e9c515-670a-4083-887f-d088e6ec07e7"
      },
      "execution_count": null,
      "outputs": [
        {
          "output_type": "stream",
          "name": "stdout",
          "text": [
            "13\n",
            "8\n",
            "{'src': ['zwei', 'junge', 'weiße', 'männer', 'sind', 'im', 'freien', 'in', 'der', 'nähe', 'vieler', 'büsche', '.'], 'trg': ['two', 'young', ',', 'white', 'males', 'are', 'outside', 'near', 'many', 'bushes', '.']}\n",
            "{'src': ['mehrere', 'männer', 'mit', 'schutzhelmen', 'bedienen', 'ein', 'antriebsradsystem', '.'], 'trg': ['several', 'men', 'in', 'hard', 'hats', 'are', 'operating', 'a', 'giant', 'pulley', 'system', '.']}\n"
          ]
        }
      ]
    },
    {
      "cell_type": "markdown",
      "source": [
        "Create vocabulary and convert all tokens that appear less than twice into unknown tokens."
      ],
      "metadata": {
        "id": "-_UynIoJCTu8"
      }
    },
    {
      "cell_type": "code",
      "source": [
        "SRC.build_vocab(train_data, min_freq = 2)\n",
        "TRG.build_vocab(train_data, min_freq = 2)"
      ],
      "metadata": {
        "id": "8ciycKALXoha"
      },
      "execution_count": null,
      "outputs": []
    },
    {
      "cell_type": "code",
      "source": [
        "print(f\"Unique tokens in source (de) vocabulary: {len(SRC.vocab)}\")\n",
        "print(f\"Unique tokens in target (en) vocabulary: {len(TRG.vocab)}\")"
      ],
      "metadata": {
        "colab": {
          "base_uri": "https://localhost:8080/"
        },
        "id": "SmJVZlQfXwVj",
        "outputId": "b29f8021-3974-44c7-c7d9-7d6a1b0482f7"
      },
      "execution_count": null,
      "outputs": [
        {
          "output_type": "stream",
          "name": "stdout",
          "text": [
            "Unique tokens in source (de) vocabulary: 7853\n",
            "Unique tokens in target (en) vocabulary: 5893\n"
          ]
        }
      ]
    },
    {
      "cell_type": "code",
      "source": [
        "# Define device, create iterators\n",
        "device = torch.device('cuda' if torch.cuda.is_available() else 'cpu')"
      ],
      "metadata": {
        "id": "4X0U7R36XyDe"
      },
      "execution_count": null,
      "outputs": []
    },
    {
      "cell_type": "code",
      "source": [
        "BATCH_SIZE = 128\n",
        "\n",
        "train_iterator, valid_iterator, test_iterator = BucketIterator.splits(\n",
        "    (train_data, valid_data, test_data), \n",
        "    batch_size = BATCH_SIZE, \n",
        "    device = device\n",
        ")"
      ],
      "metadata": {
        "id": "hXSmy1cjX4Km"
      },
      "execution_count": null,
      "outputs": []
    },
    {
      "cell_type": "markdown",
      "source": [
        "# **2. Seq2Seq Model**\n",
        "**Encoder**"
      ],
      "metadata": {
        "id": "EQFbhPa-MsOq"
      }
    },
    {
      "cell_type": "markdown",
      "source": [
        "![seq2seq5.png](data:image/png;base64,iVBORw0KGgoAAAANSUhEUgAAAboAAAEGCAYAAAAT/1CLAAAILnRFWHRteGZpbGUAJTNDbXhmaWxlJTIwaG9zdCUzRCUyMnd3dy5kcmF3LmlvJTIyJTIwbW9kaWZpZWQlM0QlMjIyMDIwLTAxLTIxVDExJTNBNDIlM0ExNi41MzlaJTIyJTIwYWdlbnQlM0QlMjJNb3ppbGxhJTJGNS4wJTIwKFgxMSUzQiUyMExpbnV4JTIweDg2XzY0KSUyMEFwcGxlV2ViS2l0JTJGNTM3LjM2JTIwKEtIVE1MJTJDJTIwbGlrZSUyMEdlY2tvKSUyMENocm9tZSUyRjY5LjAuMzQ5Ny45MiUyMFNhZmFyaSUyRjUzNy4zNiUyMiUyMHZlcnNpb24lM0QlMjIxMi41LjUlMjIlMjBldGFnJTNEJTIySm1xeHpUTmpLQy1seGtoaUotNWclMjIlMjB0eXBlJTNEJTIyZGV2aWNlJTIyJTNFJTNDZGlhZ3JhbSUyMGlkJTNEJTIyZDc2MjhlM2QtODBiZS0wOTEwLWRiZjQtOTVmZGE5NmQ5ODBmJTIyJTIwbmFtZSUzRCUyMlBhZ2UtMSUyMiUzRTdadGRrNU13RklaJTJGVFMlMkZkQVFKWmVxbDExUmwxUjJjdjFNc1VVc0FGMG9GMDIlMkZyckRTVjhoTVF1dGpSVWwxN3Nra01DSlclMkJlYzA2U01nT0xaUGMlMkJRJTJCdndNJTJGRnhQTE1NZnpjRGIyZVdOUWMyJTJCMXNZOXFYQk1jelNFR1NSWDVwYWhvZm9GJTJCWkdnMXMza1k5em9TSWxKS2JSV2pSNkpFMnhSd1VieWpLeUZhdXRTQ3plZFkwQ0xCa2VQQlRMMW0lMkJSVDhQUzZscXdzWCUyRkFVUkJXZHpiaHZEeXpSTjVqa0pGTnl1ODNzOERxOENsUEo2aTZGbiUyRlFQRVElMkIyYlpNNEc0R0Zoa2h0RHhLZGdzY0YxMWJkVnZaN3QwZnp0YmZPOE1wN2RNQThCWTUzVmZQam4zV0ZieVlrcFQ5ZTNONElGdzBNVmpKSTBuazhlT1FKakU3Tk5raDNrWDBlJTJCdjRSMUhseGlsS0tjMzIzM21MUTZFNVYzZEFjZTRucG5UUFJ3UGFVTUpNSktNaENVaUs0ayUyQkVyUG5sVnlTbDcxQVN4Y1h3V3BCTkZ1R01QY1E5M3ZLVCUyRkJvbVpHVzVTNnBuWmcwOSUyRnRBV0gyUW9DekN2QlVwVDBSMnRacndiMzJPU1lQWWdyRUtHWTBTakozSGtJRDRBZzdwZUl3STc0RHFvTmVIZjVRbkZHMXlOb281R29pRGJNS0w0WVkwT0Q3TmxRSXJDQ0YwY3hDalBGVUxtTkNPUGVFRmlraDF1QVZ4ckNXRFJmNnNvamx0MjM4R3ViJTJGJTJCdENDaU9ncFFWUENZQ3EzWkVsU2VjVWJ3NzJ1UFZXY2doNGs3R3NubDUyeUJibWNJV3JaWHRISTJBck1tTDVBYkkzRlRWOUlNREpuQjZnVk1UTUFJNHB2bThTS2VTZENWTU9FT1BmOTcwQzRuWVhSdjM1NG9xQXRpUnA0U1N0JTJCb29WSCUyQk5YcUk1a21iQmh1SlVFbzZOUDlxUlJLQ0RpOWtHZzV1a1lWNk01b2dsWkslMkY1aVNUeSUyRmVJMlNtYkYwZEVMMjJGa1B6MVkyV1klMkY1cXdobURQJTJCZSUyQmFnSHVZc3FJMDVLR21XRUhidENib3pBcDFPNkd3NFpZanRkTENkSXRxRGg4amVjNnNlNmNlVUl4YWV6Um92UiUyQnd6QSUyRjdINDlYd3F3dnFnQVZzYlFGTE9mMkNLQ21BaVlzSWhVbGVHd0phOTlRVXlrN2hVV2NvQTRhazFNc01aVkFPWmRaWWtjeWVEeTRLRjZLUzVmbzYlMkZ1SlRhcU1UOUl6TGVVczV2NThTRVpYamMwZk1RM1FnMXZpOXhnMyUyQnVMSmt4UjBIdjBzbUslMkI0enlVbyUyQkpTdURNYXQxMmkydlZmNGF3N0V1WGNkMkRObXhybHdQZTk0MU9GYTdHJTJCdzBlbGJuQlc4N0M5bWpwc1RHTm01QTYyTzdqaWk5TTclMkJCcmMlMkJ0TGQ2Z0RBYUQ3Q1RJUzlFaDg3T2x5OTBzMmVIQjJScVZqVjJ2Wlo1OGNBJTJCOGEwMzFPVjFIWHJCUnFXcE9xZzRjV2MxYmpTSTdHckxoRWYyeTd2M2F2cFBMNXklMkZVamNnRHVtdDVscW9DMjVyQVBoZnM3djZ3VnJKdko3S0gzQlUlMkJtV3pwUWhja1c1NEFxOGdHRTlubmt0M2RoTlpLOW4lMkIlMkJTS3g3JTJCJTJCeGtzcVVMWFk1czJHJTJCS1pVOWtuMHQyZDA5T0o5bjMlMkJkZk4lMkZUejNmbUxyMFhpQUgxJTJCRHVmMEsya2R4YjBDOGE2eWRqbGJDcW9DNjM5bzJPMzY3YXhmMlZlSElxdmVoMERRN2xLcDJTdXlmWGNCV2R4WlhRVjZQMGJCN2QlMkZRYmpid241TU1sZEJSN1FxdlZ5aHBzNlZLaVRDRmkzMWx3emFHR2xVdTFjTWQlMkY2elZ4SjNTV2FoMTBWT3l1NHpkaDE0OWRkNDQ2UG5mSEo2NFRkMEpuV1RKM1lGVHU1RlhqaWJzJTJCTThqeHVYTW43dnB6OThkMzVFWUQ3enBlbEx0JTJCOExvVHZBdUN4NHJOVzklMkZsckw5NXN4N2MlMkZRWSUzRCUzQyUyRmRpYWdyYW0lM0UlM0MlMkZteGZpbGUlM0WTnGFBAAAgAElEQVR4Xu2dC5hXVfX+FzjAaOSlhDBN/3ahyEumlXkpURlNBcvEOwipkBcGM1QUHBSEUbwEKaWkhShSIkoZ5gXy0p8ITcJb4C3FNDOkvIECo/J71n488wzjiN/vec+Z7z7M5zyPD4nnXWefz1prv2fvc6Zpt3bt2rXGAQEIQAACENhACbTD6Fo/s7Nnz7Y+ffrYCy+8YNtss03rD6DgV4SflkD4wU8jUDw1RleBnDHRaNDhBz+NgKam/jR+lVBjdBWgTqNo0OEHP42Apqb+NH6VUGN0FaCeNMqCBQusrq7O5s2bZ926dbPzzjvPTjjhhAqMqFiXhJ+WL/jBTyNQPDVGV4GcJRPN7rvvbkOGDLEddtjBJkyYYNOnT7fFixdb9+7dKzCq4lwSflqu4Ac/jUDx1BhdBXKWTDSTJ0+2wYMHhxEsX77cunTpYlOmTLGBAwdWYFTFuST8tFzBD34ageKpMboK5CyZaHz11qNHj8YRdOrUyerr623YsGEVGFVxLgk/LVfwg59GoHhqjK4COfuwl9nV1dU2duxYO/PMM9cZ1amnnmrz58+3hx9+uAKjje+SpfJ79NFHbejQoeZ/brzxxnbMMcfY+PHjbaONNorvplpxRKXyW7hwoZ1xxhn2+OOPm9fmUUcdZZdeeqlVVVW14mjju1Sp/JKRv/vuu7b33nvbq6++ak888UR8N9QGRoTRVSDJpTSK/xz/s88+a5dddpn95je/se222w6jez9XpfB75513bPvttzd/SBg+fLi99NJLtt9++4V3om5+bfkohd+qVats2223DR9LOTPnt88++1htba2dfvrpbRmflcKvKaCLLrrIpk6dGv4Ko6tM6WB0FeBeSqPcc889YVLp27evde3a1a655hqMrgyj86fnq6++OmwDd+zYMShPOeUUa2hosGuvvbYCWY/nkqXU37Jly+z6668P/Nq1axcG7++TfTV81VVXxXMzFRhJKfySYT322GN2/PHHB46+W4PRVSBhZobRVYB7OY3iw7vuuuts4sSJGF0ZRtc8rStXrrSddtrJRo8ebf37969A1uO5ZLn15w8H999/vw0YMMBuvPFG69mzZzw3U4GRlMrPue21117hweC5554LPz6E0VUgYRhdZaCX2ijJ6DC6dfNULj83ucMOO8w22WQTmzVrVuMKpTLZr/xVy+H34IMP2p577hney40bN44PpcxK3rocNWpU4OZ/zpw5E6OrYOmzoqsg/FIvjdGVSuqD5/m7Jf//Fd1xxx3DlmWHDh3SB2ujSn/f+cgjj4St3169eoUvgznWT+Chhx4K7zJ9Jexmh9FVtmIwusryL+nqGF1JmD5w0tKlS23fffe1QYMG2YgRI9IFaaOqJUuW2B/+8Id1VnC+belbv0899VQbpVL6bZ999tl2ww03mP/IkB9vvfVW+Opy6623tkWLFtkWW2xRejDOlAlgdDLC/ANgdOUzXrNmje22227hk3h/N8JRHoHnn38+/IynfwR17LHH2muvvRZ+PGPzzTcPXwFzlEeAFV15vLI+G6PLmmhG8R544AE75JBDQrTVq1fb22+/HSYZP/xLrq222iqjK22YYW6//Xbr3bt3eHJu3759403usssuNnfu3A3zpjO+qzlz5oSHhKeffjps+dbU1ISPorbccsuMr7Thh8PoKptjjK6y/Lk6BCAAAQjkTACjyxkw4SEAAQhAoLIEMLrK8ufqEIAABCCQMwGMLmfAhIcABCAAgcoSwOgqy5+rQwACEIBAzgQwupwBEx4CEIAABCpLAKOrLH+uDgEIQAACORPA6HIGTHgIQAACEKgsAYyusvy5OgQgAAEI5EwAo8sZMOEhAAEIQKCyBDC6yvLn6hCAAAQgkDMBjC5nwISHAAQgAIHKEsDoKsufq0MAAhCAQM4EMLqcARMeAhCAAAQqSwCjqyz/da7e0NBgAwYMsKlTp/KbsFPkBX4poDWRwA9+GoF41RhdRLmpr68Pv8F51KhRNnLkyIhGVoyhwE/LE/zgpxGIV43RRZSb6urq8EtWO3bsGP7kKI8A/Mrj1fxs+MFPIxCvGqOLJDf+ND1mzJhgcJ06dbK6ujpWdWXkBn5lwGrhVPjBTyMQtxqjiyQ/ydN0MhxWdeUlBn7l8fqw1Rz1l44j9ZeOW2upMLrWIr2e6zR9mk5OY1VXemLgVzqrls6EH/w0AvGrMboIcuSmVlVVZZ07d7Zly5ZZ165dbcWKFeZfwa1ZsyaCEcY9BPhp+YEf/DQC8asxugrnaO7cuda3b1+bNGmS9evXz9q1a2dr1661adOmWW1trc2YMcNqamoqPMp4Lw8/LTfwg59GoBhqjC6yPCVGF9mwCjMc+Gmpgh/8NAJxqjG6yPLCRKMlBH7w0whoaupP45eXGqPLi2zKuDRKSnDvy+AHP42Apqb+NH55qTG6vMimjEujpASH0Wng4Ae/TAjEGQSjiywvGJ2WEPjBTyOgqak/jV9eaowuL7Ip49IoKcGxItHAwQ9+mRCIMwhGF1leMDotIfCDn0ZAU1N/Gr+81BhdXmRTxqVRUoJjRaKBgx/8MiEQZxCMLrK8YHRaQuAHP42Apqb+NH55qTG6vMimjEujpATHikQDBz/4ZUIgziAYXWR5wei0hMAPfhoBTU39afzyUmN0eZFNGZdGSQmOFYkGDn7wy4RAnEEwusjygtFpCYEf/DQCmpr60/jlpcbo8iKbMi6NkhIcKxINHPzglwmBOINgdJHlBaPTEgI/+GkENDX1p/HLS43R5UU2ZVwaJSU4ViQaOPjBLxMCcQbB6CLLC0anJQR+8NMIaGrqT+OXlxqjy4tsyrg0SkpwrEg0cPCDXyYE4gyC0UWWF4xOSwj84KcR0NTUn8YvLzVGlxfZlHFplJTgWJFo4OAHv0wIxBkEo4ssLxidlhD4wU8joKmpP41fXmqMLi+yKePSKCnBsSLRwMEPfpkQiDMIRhdZXjA6LSHwg59GQFNTfxq/vNQYXV5kU8alUVKCY0WigYMf/DIhEGcQjC6yvGB0WkLgBz+NgKam/jR+eakxurzIpoxLo6QEx4pEAwc/+GVCIM4gGF1kecHotITAD34aAU1N/Wn88lJjdHmRTRmXRkkJjhWJBg5+8MuEQJxBMLrI8oLRaQmBH/w0Apqa+tP45aXG6PIimzIujZISHCsSDRz84JcJgTiDYHSR5QWj0xICP/hpBDQ19afxy0uN0YlkL5z9QzFC/vK63pPzv0jKK2TN795fL7R9j9kt5WhalsFPwwm/DZffXUccpt1cK6gPvHmWYXQiaJ+oD//6UDFKfvJb/nqFxT7RwC99/qm/9OxcCT+NnxtdzxHnaUFyVN9XP9YwugwA0ygaRPjBTyOgqak/jR9Gp/ErjJpG0VIFP/hpBDQ19afxw+g0foVR0yhaquAHP42Apqb+NH4YncavMGoaRUsV/OCnEdDU1J/GD6PT+BVGTaNoqYIf/DQCmpr60/hhdBq/wqhpFC1V8IOfRkBTU38aP4xO41cYNY2ipQp+8NMIaGrqT+OH0Wn8CqOmUbRUwQ9+GgFNTf1p/DA6jV9h1DSKlir4wU8joKmpP43fBm10s2fPtj59+tgLL7xg22yzjUaq4GoaRUsg/OCnEdDU1J/GD6PT+BVGTaNoqYIf/DQCmpr60/hhdBq/wqhpFC1V8IOfRkBTU38avzZhdAsWLLC6ujqbN2+edevWzc477zw74YQTNHIFU9MoWsLgBz+NgKam/jR+bcLodt99dxsyZIjtsMMONmHCBJs+fbotXrzYunfvrtErkJpG0ZIFP/hpBDQ19afxy8Lo7p4/3w4d0vJvgJlx+WV26L49Uw9S+u0FyccokydPtsGDB4dBLF++3Lp06WJTpkyxgQMHph5YTMKGhgabOXOmHXHEEVZVVdXi0GiU9Wdszpw5VlNT86EnwQ9+efY89afR/Sh+WRjdW2+vsn8vf2WdgZ53xZU2/+FHbMH0G22rLlumvolMjM5Xbz169GgcRKdOnay+vt6GDRuWemCxCX1L9pVXXrEzzzzTxo8f/4HhMVGvP2ObbbaZrV692i644AI755xz4FdmgcOvTGDNTodfvvyyMLrmI/zNHXfaSeefb3dcfZV9a9ddpRvIxOia/3hBdXW1jR07NpiCH0uWLLGTTz7ZFi1aZJ07d7ba2lo799xzpYG3tvjWW2+1/v3723vvvWerVq2ykSNHhntMDoxu/RmZOnWqnXrqqfbuu+9au3bt7Pzzz1/H8OAHvzx7mvrT6H4Uv6yN7rGnnrZ9Bv7ALqwdYqcdc7Q2eDPL3ejcGHy1d9xxxwVzW7p0qfXs2dMmTpwYtgJLPV5//XW76667rH379o3/bLTRRuv8e/Lfyv1715Wi2XHHHe3ll18OQ/ZV6zvvvBM+wvEVyiVzhvIbxj8imb6l7VvbCb/E8Hzlf/FdQ+AHv1Kng1TnUX+psDWK1sfvnmOPzOw3jL/6xhu2Z7/+9s2dd7YpYy/UBv2+Onej8y8yDz744LDt52bix7hx4+yBBx6w2267reSbePHFF8NWqBtn8o+vDpr+e9q/d10psXwlt3LlynXG7KvXfv362bbfbR/9RD2qzy9K5t1aJ3bo0MGOPvpo+8KRG8MvBXT4pYDWRAK/bPgd9/abmRidz8WHnf4je3n5f+2+Kb+0jaurtQG2ltH5Ryn+sYobXnLMmjXLzjrrLHvmmWcyuYnWCrLpppvam2++GS7nW7D+YYq/ixw0aJBddOdp0U/Udb0ntxaqFq/T9ImwY8eOjVuY/gAz/u5a+JWxooNf+aVM/ZXPrKliffzuPe6oTIxu9M+vssk3z7T50663/7f11tqAm6hzX9FdeeWV5u+3/Ksdf3rydzN77LGHDRgwoHEbMLO7yTGQ30fyXtFXcf5Byoknnth4Rd4xrR9+ssfv273JlmXT97Twg1+O7WvUn0b3o/hl8Y7uD3/6/3b4GT+2CWefZTV77rHOgDft3Nm6bLFF6puQjK6Uq/qK7oorrrCFCxfa0KFDwzbmG2+8Ed5tPf3006WEiOIcX835e7nLL7/cjj/++A+MiYl6/Wnyr95869e/umzpQyT4wS/PRqf+NLofxS8Loxsyrt6uveXWFgd60uHft0kjR6S+idyN7sEHH7T9998/vKPzlZAfI0aMsCeeeCKs9Ipy/OUvfwkr0Q87mKjXn8m7777bDjjgAPilLHj4pQT3vgx++fLLwui0Ea5fnbvR+cvFnXbayQ499FAbPXq0Pfnkk9arV6/wA+W+uttQDoxOyyT84KcR0NTUn8avzRud4/MtSv9g46GHHrLNN9/chg8fHn6WbkM6aBQtm/CDn0ZAU1N/Gj+MTuNXGDWNoqUKfvDTCGhq6k/jh9Fp/AqjplG0VMEPfhoBTU39afwwOo1fYdQ0ipYq+MFPI6CpqT+NH0an8SuMmkbRUgU/+GkENDX1p/HD6DR+hVHTKFqq4Ac/jYCmpv40fhidxq8wahpFSxX84KcR0NTUn8YPo9P4FUZNo2ipgh/8NAKamvrT+GF0Gr/CqGkULVXwg59GQFNTfxo/jE7jVxg1jaKlCn7w0whoaupP44fRafwKo6ZRtFTBD34aAU1N/Wn8MDqNX2HUNIqWKvjBTyOgqak/jR9Gp/ErjJpG0VIFP/hpBDQ19afxw+g0foVR0yhaquAHP42Apqb+NH4YncavMGpvlNiPut6Tox0i/LTUwA9+GgFN7UYX+3HgzbOs3dq1a9fGPtC2Mr6GhgYbMGCA+a+v79ChQ1u57czuE34aSvjBTyMQrxqjiyg39fX14ZfUjho1ykaOHBnRyIoxFPhpeYIf/DQC8aoxuohyU11dbatXr7aOHTuGPznKIwC/8ng1Pxt+8NMIxKvG6CLJjT9NjxkzJhhcp06drK6ujlVdGbmBXxmwWjgVfvDTCMStxugiyU/yNJ0Mh1VdeYmBX3m8Pmw1R/2l40j9pePWWiqMrrVIr+c6TZ+mk9NY1ZWeGPiVzqqlM+EHP41A/GqMLoIcualVVVVZ586dbdmyZda1a1dbsWKF+Vdwa9asiWCEcQ8Bflp+4Ac/jUD8aoyuwjmaO3eu9e3b1yZNmmT9+vWzdu3amf/Ex7Rp06y2ttZmzJhhNTU1FR5lvJeHn5Yb+MFPI1AMNUYXWZ4So4tsWIUZDvy0VMEPfhqBONUYXWR5YaLREgI/+GkENDX1p/HLS43R5UU2ZVwaJSW492Xwg59GQFNTfxq/vNQYXV5kU8alUVKCw+g0cPCDXyYE4gyC0UWWF4xOSwj84KcR0NTUn8YvLzVGlxfZlHFplJTgWJFo4OAHv0wIxBkEo4ssLxidlhD4wU8joKmpP41fXmqMLi+yKePSKCnBsSLRwMEPfpkQiDMIRhdZXjA6LSHwg59GQFNTfxq/vNQYXV5kU8alUVKCY0WigYMf/DIhEGcQjC6yvGB0WkLgBz+NgKam/jR+eakxurzIpoxLo6QEx4pEAwc/+GVCIM4gGF1kecHotITAD34aAU1N/Wn88lJjdHmRTRmXRkkJjhWJBg5+8MuEQJxBMLrI8oLRaQmBH/w0Apqa+tP45aXG6PIimzIujZISHCsSDRz84JcJgTiDYHSR5QWj0xICP/hpBDQ19afxy0uN0eVFNmVcGiUlOFYkGjj4wS8TAnEGwegiywtGpyUEfvDTCGhq6k/jl5cao8uLbMq4NEpKcKxINHDwg18mBOIMgtFFlheMTksI/OCnEdDU1J/GLy81RpcX2ZRxaZSU4FiRaODgB79MCMQZBKOLLC8YnZYQ+MFPI6CpqT+NX15qjC4vsinj0igpwbEi0cDBD36ZEIgzCEYXWV4wOi0h8IOfRkBTU38av7zUGF1eZFPGpVFSgmNFooGDH/wyIRBnEIwusrxgdFpC4Ac/jYCmpv40fnmpMbq8yKaMS6OkBMeKRAMHP/hlQiDOIBhdZHnB6LSEwA9+GgFNTf1p/PJSY3R5kU0Zl0ZJCY4ViQYOfvDLhECcQTC6yPKC0WkJgR/8NAKamvrT+OWlxuhEskvuOEqMkL+8x0E35X+RlFeAX0pw78vgBz+NQNtQY3Rinn2i6bH32WKU/ORL5l1isRsd/NLnn/pLz86V8NP4FUWN0YmZolE0gPCDn0ZAU1N/Gr+iqDE6MVM0igYQfvDTCGhq6k/jVxQ1RidmikbRAMIPfhoBTU39afyKosboxEzRKBpA+MFPI6CpqT+NX1HUGJ2YKRpFAwg/+GkENDX1p/ErihqjEzNFo2gA4Qc/jYCmpv40fkVRY3RipmgUDSD84KcR0NTUn8avKGqMTswUjaIBhB/8NAKamvrT+BVFjdGJmaJRNIDwg59GQFNTfxq/oqgxOjFTNIoGEH7w0whoaupP41cUNUYnZopG0QDCD34aAU1N/Wn8iqLG6MRM0SgaQPjBTyOgqak/jV9R1BidmCkaRQMIP/hpBDQ19afxK4oaoxMzRaNoAOEHP42Apqb+NH5FUWN0YqZoFA0g/OCnEdDU1J/GryhqjE7MFI2iAYQf/DQCmpr60/gVRY3RiZmiUTSA8IOfRkBTU38av6KoMToxUzSKBhB+8NMIaGrqT+NXFDVGJ2aKRtEAwg9+GgFNTf1p/IqixujETNEoGkD4wU8joKmpP41fUdQYnZgpGkUDCD/4aQQ0NfWn8SuKGqMTM0WjaADhBz+NgKam/jR+RVFjdGKmaBQNIPzgpxHQ1NSfxq8oaoxOzBSNogGEH/w0Apqa+tP4FUWN0YmZolE0gPCDn0ZAU1N/Gr+iqDE6MVM0igYQfvDTCGhq6k/jVxQ1RidmikbRAMIPfhoBTU39afyKosboxEzRKBpA+MFPI6CpqT+NX1HUGJ2YKRpFAwg/+GkENDX1p/ErihqjEzNFo2gA4Qc/jYCmpv40fkVRY3RipmgUDSD84KcR0NTUn8avKGqMTswUjaIBhB/8NAKamvrT+BVFjdGJmaJRNIDwg59GQFNTfxq/oqgxOjFTNIoGEH7w0whoaupP41cUNUYnZopG0QDCD34aAU1N/Wn8iqLG6MRM0SgaQPjBTyOgqak/jV9R1BidmCkaRQMIP/hpBDQ19afxK4oaoxMzRaNoAOEHP42Apqb+NH5FUWN0Yqa8UWI/ehx0U7RDhJ+WGvjBTyPQNtQYXUR5bmhosAEDBtjUqVOtQ4cOEY2sGEOBn5Yn+MFPIxCvGqOLKDf19fU2evRoGzVqlI0cOTKikRVjKPDT8gQ/+GkE4lVjdBHlprq62lavXm0dO3YMf3KURwB+5fFqfjb84KcRiFeN0UWSG3+aHjNmTDC4Tp06WV1dHau6MnIDvzJgtXAq/OCnEYhbjdFFkp/kaToZDqu68hIDv/J4fdhqjvpLx5H6S8ettVQYXWuRXs91mj5NJ6exqis9MfArnVVLZ8IPfhqB+NUYXQQ5clOrqqqyzp0727Jly6xr1662YsUK86/g1qxZE8EI4x4C/LT8wA9+GoH41RhdhXM0d+5c69u3r02aNMn69etn7dq1s7Vr19q0adOstrbWZsyYYTU1NRUeZbyXh5+WG/jBTyNQDDVGF1meEqOLbFiFGQ78tFTBD34agTjVGF1keWGi0RICP/hpBDQ19afxy0uN0eVFNmVcGiUluPdl8IOfRkBTU38av7zUGF1eZFPGpVFSgsPoNHDwg18mBOIMgtFFlheMTksI/OCnEdDU1J/GLy81RpcX2ZRxaZSU4FiRaODgB79MCMQZBKOLLC8YnZYQ+MFPI6CpqT+NX15qjC4vsinj0igpwbEi0cDBD36ZEIgzCEYXWV4wOi0h8IOfRkBTU38av7zUGF1eZFPGpVFSgmNFooGDH/wyIRBnEIwusrxgdFpC4Ac/jYCmpv40fnmpMbq8yKaMS6OkBMeKRAMHP/hlQiDOIBhdZHnB6LSEwA9+GgFNTf1p/PJSY3R5kU0Zl0ZJCY4ViQYOfvDLhECcQTC6yPKC0WkJgR/8NAKamvrT+OWlxujyIpsyLo2SEhwrEg0c/OCXCYE4g2B0keUFo9MSAj/4aQQ0NfWn8ctLjdHlRTZlXBolJThWJBo4+MEvEwJxBsHoIssLRqclBH7w0whoaupP45eXGqPLi2zKuDRKSnCsSDRw8INfJgTiDILRRZYXjE5LCPzgpxHQ1NSfxi8vNUaXF9mUcWmUlOBYkWjg4Ae/TAjEGQSjiywvGJ2WEPjBTyOgqak/jV9eaowuL7Ip49IoKcGxItHAwQ9+mRCIMwhGF1leMDotIfCDn0ZAU1N/Gr+81BhdXmRTxqVRUoJjRaKBgx/8MiEQZxCMLrK8YHRaQuAHP42Apqb+NH55qTG6vMimjEujpATHikQDBz/4ZUIgziAYXWR5wei0hMAPfhoBTU39afzyUmN0eZFNGZdGSQmOFYkGDn7wy4RAnEEwusjygtFpCYEf/DQCmpr60/jlpcbo8iKbMi6NkhIcKxINHPzglwmBOINgdJHlBaPTEgI/+GkENDX1p/HLS43R5UU2ZVwaJSU4ViQaOPjBLxMCcQbB6CLLC0anJQR+8NMIaGrqT+OXlxqjy4tsyrg0SkpwrEg0cPCDXyYE4gyC0UWWF4xOSwj84KcR0NTUn8YvLzVGlxfZlHFplJTgWJFo4OAHv0wIxBkEo4ssLxidlhD4wU8joKmpP41fXmqMLi+yKePSKCnBsSLRwMEPfpkQiDMIRhdZXjA6LSHwg59GQFNTfxq/vNQYXV5kU8YdPXq0nX/++SnVyOCn1QD84KcRiFON0cWZF0YFAQhAAAIZEcDoMgJJGAhAAAIQiJMARhdnXhhVCgKDBw+27t2725lnnplCjQQCENhQCWB0GWd2/vz59sgjj9gpp5ySceTSwl1//fW21VZbWU1NTWmCDeisnXbayQYMGIDRpczpe++9Z+3bt0+p3jBk9O+Gkcfmd4HRZZDXhoYGu/nmm23ixIn297//3caMGWPDhg0Lkd98800bPny43XbbbbZ8+XLbbrvtbMiQIVZbW7vOlZ944okwQf/pT3+yd955x3bddVerr6+3b3/72+uc95Of/MSuvvpqe+GFF2yLLbawww8/3C655BLbeOONw3nXXXed/ehHP7JtttnGTj/9dOvXr1/jf8vgVjMNcemll9qECRPs9ddftwMPPDBw+uY3v2kPPvigff3rX7cVK1bYxz/+cbvhhhvCfSTHd77zHauqqrLZs2eHv5o7d26Lxr7DDjvY448/vs6YPUc/+9nP7Pnnnw8PBIMGDbKRI0eafy3nx6uvvmqf+MQn7He/+53NmjUr/NOhQwc74ogj7Kc//Wn43619bLbZZjZu3Di76KKLrLq62n7729/aySefHGrtsssus5NOOikMae3ateHfJ0+ebP/85z+tS5cudtRRRwVdp06dGoc9YsSIwM45e53ecsst9p///CfU0syZMxvP+6j8+ImeI8+bx3B2X/rSl8w/aPne977XGMcZemwf72mnnWYLFiwIYzv33HPDfVT6WF//lnJ/Pv622L+Vzls518foyqHV7Nz//ve/YVLxidMnGW9iX8n5RJkcP/zhD+2vf/2rXXXVVWFiXbRokR1//PF2zTXX2JFHHhlOcwP88pe/HCYJn1zctHxy8gnt4Ycfti9+8YvhvF//+tch/rRp02znnXe2l156yTz+XnvtZT//+c8br+nm+stf/jJMzN6ovqXnY/v0pz8t3G22UjcSnwwvuOACO/roo+2ee+4JHH0ydEa77LJLyUa3cuVKe+655+wb3/iGnXrqqTZw4MAwWDeFz3/+840DdxM455xzbPz48XbooYeGid4n2rPPPtvq6urCeYm5fu5zn7OxY8fad7/7Xbv33nutd+/e4QHDWbb2seWWW4YHpDvvvDM8+PiDgRvV9OnTgxH/4x//CEPyByw3RH948BW9146P1zlPmTKlcdheR77y9f+2dOlSO+OMMwKrjh07hgcMP0rJj5/nXA7kEiQAAAfVSURBVJyjs9lxxx3txhtvDNz++Mc/Ws+ePUMsH2ufPn1s7733tssvv9x85e317WP1fHvdV+IopX9Lub+22L+VyJdyTYwuBb1Vq1bZ0KFDg+F84QtfCBPFscceGyaK5ocbkjeLr86SY8mSJeaTlz/V+pFMwL7K2HrrrcPfvf3228EYf/CDH4SJyw+/5kMPPWS+vZIcvrLzJ9LPfvazH7j2u+++a7feemuYXP72t7+FVcmVV165jhGnuP1MJL7SePLJJ8NknBxu2r/4xS/KNrpE37lz52CcLb2j8weRT33qU3bwwQeHVW9yjBo1yiZNmhRWNL5aS4zOTcAfYpJjt912CxN0U20mIEoI4rXiK083B39I8geBxx57LJic59Tz77n28/yhwU0nObzu/B79/j75yU+Gv3bj3m+//cLDhNfTRhtt9IFRlJIfNyk3NzfR5OHCA7kZb7rppo0r7sTo3JiPOeaYcC1/GPNzmmtLwCGfUmr/lnp/bbF/5SS0cgCMLgXwl19+OZjQWWedFVYHybZXS6F8i/Laa68NT88+yfokkGwzJuf7yu7RRx8N2x9Nj3333TdMYL6d6YdvK/m53//+961v377Wq1evMLmVcngz+srFDc8nuEof/gDw1a9+1aZOndo4FF/BHnbYYbkY3bPPPmu+Smu+DXrfffeZc/b3qj6mxOjccN1cksO3S90If//737c6Os+xbwf6qtxXoM8880zYrvUV3kEHHWQ+cfuqzrdqfbXmZpcc999/f1hZ+QrLzc0PNzdfuTW/x6Y3Vkp+fvWrX9mJJ54YttF9qzw5/GHjiiuusP/973/hrxKje+qpp8KDYXL4KtJXdck2f2uBLbV/S72/tti/rZWrrK6D0aUg6ROLG5hv03jj/vjHPw5Pqi2t6PwFv28h+rluMm5yPjn4Kit53+MG+Nprr62zUvNhuaH5BN101eMTra9AfALzJ3l/t+XblG68zQ83SX/q92stXLgwmKNrm26tprj9TCRuOj72pluuvlL1bdhyty6TAa1vRecM3VidedMPLnylt2bNGrv77rvDdl+p7wUzgVBiEDe6iy++OLyLc6Pz7UY3ucTofPXvD0q777673XXXXXbAAQc0Rva//8pXvhLqIHlvlhidP0B961vfanEUpeTH33f6bkbT938ezOvO3zM7V+edGF1zQ3Sj823O1v5KttT+LfX+2mL/lli60ZyG0Qmp8L15397yydonTP/IxCeiDzOSV155JazK/D2Rb0l6I/nhE9i8efM+sKJL3nH4qqP58dZbb9mcOXNCLJ9ompqhT9Zufh7ft4h8Nelji+kdnW95+aqi6buj22+/PWzzJkbn797cvJqvwvbZZ5/wkUryMUopRufmsP3224eVRktfpH7mM5+xj33sY4U1Oq9Fv4fmK7pkxerblUk9JUbn746/9rWvtdgBpeTHt3G9jv3jEv9gpvnh75Z9tyM2o0vG+VH9W+r9tcX+FabNikgxugyw+8pqxowZYeXm+/oXXnhhWOWtXr06PHX71pi/j0gO/2DCt598FeGHf4ThX0g2fUfnk7yv0vxcf5r3w5/Au3XrFn5WLDn8uv379w/bVz6pNP3q0t/p+X9rvlWawS3LIXx14R/T+IcMyeEM3IgSo/OHB3/q9w90/F788FWCb5P5hyfNjc4nW/+Sz82/+eGx/P3ncccdF+Ilh3/Y4Q8NyYq4qCs6303we/Ct36bv6JIPVJYtW9ZoRqUYXSn58Xes/iGJ5+GQQw5pZPqvf/0r1Ls/jPgRq9ElA/6w/i31/tpi/8oTQCsHwOgyBv7nP/85bCP515G+feMfifiTtL/P84nYP0TxrUuf1P3v/PCtJ/860J+A/cMT31rzCcqN0D862HbbbcN5vj3q7zn8gxJ/evd3Df5ptxuZr4b88J+jczNsun2V8S1mEs7fzfkHDH4vvorzFYdvq/r2bmJ0fqE99tgjGLj/eIZP5v5pvP9vf4fU3Oh8a9IP/3EL/8DCP7H37dHExPxa/p7St3L9ndu///3vYIxudL668esU1ej8gcAftPz+fOLdf//9w0OEr+ab7h44n1KMrtT8+I8NeDy/pq8CPXe+re8fszjnIhhd04Ju2r/+96XcX1vs30wmgVYMgtHlDHvx4sVh8vHtHZ9E3bR84nGDavquyA3QX8r7qs1XHz7B+8ojmbx9mG+88UY454477jDfBvWvNv39gH+Nl3xRl/PtZBbe79EZ+BarP1H7CsI/efcPbJxF8sm5b8n615hu+F27dg2rNTclXzX4arnp4ez8gw1/GNhkk01CDP/Sz7csk8O3md0Q/McRnJmvRPyDooRfkY3OmbrJ+4ruxRdfDFvV/jDhX102/bKyFKMrNT8+yfvDwk033RQ+PvH69mt6npJrxr6iW19Rl3J/rm9r/ZvZRNBKgTC6VgLNZT5IwLd2/Qe/kwnRf+jev2DzbVs3Ko7KEiA/leXP1bMjgNFlx5JIZRDwL/D8yz7/hN+3cf0dkq/cfPvWf/aPo7IEyE9l+XP1bAlgdNnyJFoZBHxLy3/3nm/7+P+dmX8N6T/vV+rPBpZxKU5NQYD8pICGJEoCGF2UaWFQEIAABCCQFQGMLiuSxIEABCAAgSgJYHRRpoVBQQACEIBAVgQwuqxIEgcCEIAABKIkgNFFmRYGBQEIQAACWRH4PwKpyt6xSrSSAAAAAElFTkSuQmCC)\n",
        "\n",
        "*   The Encoder consists of 1 single GRU layer. Unlike LSTM, we do not pass the dropout as an argument to the GRU, because it is used between each layer in RNN. \n",
        "*   In GRU, unlike LSTM, the cell state is not used as an input / output for the RNN network."
      ],
      "metadata": {
        "id": "GzTt0K7_Ofe1"
      }
    },
    {
      "cell_type": "code",
      "source": [
        "class Encoder(nn.Module):\n",
        "    def __init__(self, input_dim, emb_dim, hid_dim, dropout):\n",
        "        super().__init__()\n",
        "        self.hid_dim = hid_dim  \n",
        "        self.embedding = nn.Embedding(input_dim, emb_dim) # no dropout as only one layer!\n",
        "        self.rnn = nn.GRU(emb_dim, hid_dim)\n",
        "        self.dropout = nn.Dropout(dropout)\n",
        "        \n",
        "    def forward(self, src):\n",
        "        # src = [src len, batch size]\n",
        "        embedded = self.dropout(self.embedding(src))\n",
        "        # embedded = [src len, batch size, emb dim]\n",
        "        outputs, hidden = self.rnn(embedded) #no cell state!\n",
        "        # outputs = [src len, batch size, hid dim * n directions]\n",
        "        # hidden = [n layers * n directions, batch size, hid dim]\n",
        "  \n",
        "        # outputs are always from the top hidden layer\n",
        "        \n",
        "        return hidden"
      ],
      "metadata": {
        "id": "rV5MIDg2M1dq"
      },
      "execution_count": null,
      "outputs": []
    },
    {
      "cell_type": "markdown",
      "source": [
        "**Decoder**\n",
        "![seq2seq6.png](data:image/png;base64,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)\n",
        "\n",
        "*   Input dimension of GRU is emb_dim + hid_dim (context vector will be the size of hid_dim) \n",
        "*   Input dimension for final output will be emb_dim + hid_dim * 2"
      ],
      "metadata": {
        "id": "skWe8R3PQJQ_"
      }
    },
    {
      "cell_type": "code",
      "source": [
        "class Decoder(nn.Module):\n",
        "    def __init__(self, output_dim, emb_dim, hid_dim, dropout):\n",
        "        super().__init__()\n",
        "\n",
        "        self.hid_dim = hid_dim\n",
        "        self.output_dim = output_dim\n",
        "        \n",
        "        self.embedding = nn.Embedding(output_dim, emb_dim)\n",
        "        \n",
        "        self.rnn = nn.GRU(emb_dim + hid_dim, hid_dim)\n",
        "        \n",
        "        self.fc_out = nn.Linear(emb_dim + hid_dim * 2, output_dim)\n",
        "        \n",
        "        self.dropout = nn.Dropout(dropout)\n",
        "        \n",
        "    def forward(self, input, hidden, context):\n",
        "        \n",
        "        # input = [batch size]\n",
        "        # hidden = [n layers * n directions, batch size, hid dim]\n",
        "        # context = [n layers * n directions, batch size, hid dim]\n",
        "        \n",
        "        # n layers and n directions in the decoder will both always be 1, therefore:\n",
        "        # hidden = [1, batch size, hid dim]\n",
        "        # context = [1, batch size, hid dim]\n",
        "        \n",
        "        input = input.unsqueeze(0)\n",
        "        \n",
        "        # input = [1, batch size]\n",
        "        \n",
        "        embedded = self.dropout(self.embedding(input))\n",
        "        \n",
        "        # embedded = [1, batch size, emb dim]\n",
        "                \n",
        "        emb_con = torch.cat((embedded, context), dim = 2)\n",
        "            \n",
        "        # emb_con = [1, batch size, emb dim + hid dim]\n",
        "            \n",
        "        output, hidden = self.rnn(emb_con, hidden)\n",
        "        \n",
        "        # output = [seq len, batch size, hid dim * n directions]\n",
        "        # hidden = [n layers * n directions, batch size, hid dim]\n",
        "        \n",
        "        # seq len, n layers and n directions will always be 1 in the decoder, therefore:\n",
        "        # output = [1, batch size, hid dim]\n",
        "        # hidden = [1, batch size, hid dim]\n",
        "        \n",
        "        output = torch.cat((embedded.squeeze(0), hidden.squeeze(0), context.squeeze(0)), \n",
        "                           dim = 1)\n",
        "        \n",
        "        # output = [batch size, emb dim + hid dim * 2]\n",
        "        \n",
        "        prediction = self.fc_out(output)\n",
        "        \n",
        "        # prediction = [batch size, output dim]\n",
        "        \n",
        "        return prediction, hidden"
      ],
      "metadata": {
        "id": "swk3sHckNUSI"
      },
      "execution_count": null,
      "outputs": []
    },
    {
      "cell_type": "markdown",
      "source": [
        "**Seq2Seq Model**\n",
        "![seq2seq7.png](data:image/png;base64,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)\n",
        "\n",
        "*   The source sentence is fed into the encoder to receive a context vector. \n",
        "*   The initial decoder hidden state is the context vector. \n",
        "*   We put the context vector into the decoder in order to predict the target(output) sentence."
      ],
      "metadata": {
        "id": "KZkl8ssVQ3_6"
      }
    },
    {
      "cell_type": "code",
      "source": [
        "class Seq2Seq(nn.Module):\n",
        "    def __init__(self, encoder, decoder, device):\n",
        "        super().__init__()\n",
        "        \n",
        "        self.encoder = encoder\n",
        "        self.decoder = decoder\n",
        "        self.device = device\n",
        "        \n",
        "        assert encoder.hid_dim == decoder.hid_dim, \\\n",
        "            \"Hidden dimensions of encoder and decoder must be equal\"\n",
        "        \n",
        "    def forward(self, src, trg, teacher_forcing_ratio = 0.5):\n",
        "        \n",
        "        # src = [src len, batch size]\n",
        "        # trg = [trg len, batch size]\n",
        "        # teacher_forcing_ratio is probability to use teacher forcing\n",
        "        # e.g. if teacher_forcing_ratio is 0.75 we use ground-truth inputs 75% of the time\n",
        "        \n",
        "        batch_size = trg.shape[1]\n",
        "        trg_len = trg.shape[0]\n",
        "        trg_vocab_size = self.decoder.output_dim\n",
        "        \n",
        "        # tensor to store decoder outputs\n",
        "        outputs = torch.zeros(trg_len, batch_size, trg_vocab_size).to(self.device)\n",
        "        \n",
        "        # last hidden state of the encoder is the context\n",
        "        context = self.encoder(src)\n",
        "        \n",
        "        # context also used as the initial hidden state of the decoder\n",
        "        hidden = context\n",
        "        \n",
        "        # first input to the decoder is the <sos> tokens\n",
        "        input = trg[0,:]\n",
        "        \n",
        "        for t in range(1, trg_len):\n",
        "            \n",
        "            # insert input token embedding, previous hidden state and the context state\n",
        "            # receive output tensor (predictions) and new hidden state\n",
        "            output, hidden = self.decoder(input, hidden, context)\n",
        "            \n",
        "            # place predictions in a tensor holding predictions for each token\n",
        "            outputs[t] = output\n",
        "            \n",
        "            # decide if we are going to use teacher forcing or not\n",
        "            teacher_force = random.random() < teacher_forcing_ratio\n",
        "            \n",
        "            # get the highest predicted token from our predictions\n",
        "            top1 = output.argmax(1) \n",
        "            \n",
        "            # if teacher forcing, use actual next token as next input\n",
        "            # if not, use predicted token\n",
        "            input = trg[t] if teacher_force else top1\n",
        "\n",
        "        return outputs"
      ],
      "metadata": {
        "id": "fWvX7rzdNWnO"
      },
      "execution_count": null,
      "outputs": []
    },
    {
      "cell_type": "markdown",
      "source": [
        "Initialize encoder, decoder and seq2seq model. Hidden dimensions remain the same."
      ],
      "metadata": {
        "id": "yNfYEYziR7xi"
      }
    },
    {
      "cell_type": "code",
      "source": [
        "INPUT_DIM = len(SRC.vocab)\n",
        "OUTPUT_DIM = len(TRG.vocab)\n",
        "ENC_EMB_DIM = 256\n",
        "DEC_EMB_DIM = 256\n",
        "HID_DIM = 512\n",
        "ENC_DROPOUT = 0.5\n",
        "DEC_DROPOUT = 0.5\n",
        "\n",
        "enc = Encoder(INPUT_DIM, ENC_EMB_DIM, HID_DIM, ENC_DROPOUT)\n",
        "dec = Decoder(OUTPUT_DIM, DEC_EMB_DIM, HID_DIM, DEC_DROPOUT)\n",
        "\n",
        "device = torch.device('cuda' if torch.cuda.is_available() else 'cpu')\n",
        "\n",
        "model = Seq2Seq(enc, dec, device).to(device)"
      ],
      "metadata": {
        "id": "9QzqjxSNNYWF"
      },
      "execution_count": null,
      "outputs": []
    },
    {
      "cell_type": "markdown",
      "source": [
        "Initialize parameters which are initialized from a normal distribution with mean of 0 and standard deviation of 0.01. "
      ],
      "metadata": {
        "id": "CVr0l72ZSE6W"
      }
    },
    {
      "cell_type": "code",
      "source": [
        "def init_weights(m):\n",
        "    for name, param in m.named_parameters():\n",
        "        nn.init.normal_(param.data, mean=0, std=0.01)\n",
        "        \n",
        "model.apply(init_weights)"
      ],
      "metadata": {
        "colab": {
          "base_uri": "https://localhost:8080/"
        },
        "id": "Mx2Zxe0wNZ3o",
        "outputId": "07d3bd5f-90a0-4d11-fedf-c5923a32a168"
      },
      "execution_count": null,
      "outputs": [
        {
          "output_type": "execute_result",
          "data": {
            "text/plain": [
              "Seq2Seq(\n",
              "  (encoder): Encoder(\n",
              "    (embedding): Embedding(7853, 256)\n",
              "    (rnn): GRU(256, 512)\n",
              "    (dropout): Dropout(p=0.5, inplace=False)\n",
              "  )\n",
              "  (decoder): Decoder(\n",
              "    (embedding): Embedding(5893, 256)\n",
              "    (rnn): GRU(768, 512)\n",
              "    (fc_out): Linear(in_features=1280, out_features=5893, bias=True)\n",
              "    (dropout): Dropout(p=0.5, inplace=False)\n",
              "  )\n",
              ")"
            ]
          },
          "metadata": {},
          "execution_count": 17
        }
      ]
    },
    {
      "cell_type": "markdown",
      "source": [
        "Print the number of parameters. "
      ],
      "metadata": {
        "id": "jrUZc3bhSUZe"
      }
    },
    {
      "cell_type": "code",
      "source": [
        "def count_parameters(model):\n",
        "    return sum(p.numel() for p in model.parameters() if p.requires_grad)\n",
        "\n",
        "print(f'The model has {count_parameters(model):,} trainable parameters.')"
      ],
      "metadata": {
        "colab": {
          "base_uri": "https://localhost:8080/"
        },
        "id": "3MczW9vcNdnC",
        "outputId": "04deb9af-9eeb-403b-df52-0503f141ea6e"
      },
      "execution_count": null,
      "outputs": [
        {
          "output_type": "stream",
          "name": "stdout",
          "text": [
            "The model has 14,219,781 trainable parameters.\n"
          ]
        }
      ]
    },
    {
      "cell_type": "markdown",
      "source": [
        "Initialize optimizer."
      ],
      "metadata": {
        "id": "NG49D95NSYxz"
      }
    },
    {
      "cell_type": "code",
      "source": [
        "optimizer = optim.Adam(model.parameters())"
      ],
      "metadata": {
        "id": "ZU9gZ_xUNfNi"
      },
      "execution_count": null,
      "outputs": []
    },
    {
      "cell_type": "code",
      "source": [
        "TRG_PAD_IDX = TRG.vocab.stoi[TRG.pad_token]\n",
        "\n",
        "criterion = nn.CrossEntropyLoss(ignore_index = TRG_PAD_IDX)"
      ],
      "metadata": {
        "id": "I1TwtSIkNlDe"
      },
      "execution_count": null,
      "outputs": []
    },
    {
      "cell_type": "markdown",
      "source": [
        "Define training loop."
      ],
      "metadata": {
        "id": "9aFPWdbaSbhJ"
      }
    },
    {
      "cell_type": "code",
      "source": [
        "def train(model, iterator, optimizer, criterion, clip):\n",
        "    \n",
        "    model.train()\n",
        "    \n",
        "    epoch_loss = 0\n",
        "    \n",
        "    for i, batch in enumerate(iterator):\n",
        "        \n",
        "        src = batch.src\n",
        "        trg = batch.trg\n",
        "        \n",
        "        optimizer.zero_grad()\n",
        "        \n",
        "        output = model(src, trg)\n",
        "        \n",
        "        # trg = [trg len, batch size]\n",
        "        # output = [trg len, batch size, output dim]\n",
        "        \n",
        "        output_dim = output.shape[-1]\n",
        "        \n",
        "        output = output[1:].view(-1, output_dim)\n",
        "        trg = trg[1:].view(-1)\n",
        "        \n",
        "        # trg = [(trg len - 1) * batch size]\n",
        "        # output = [(trg len - 1) * batch size, output dim]\n",
        "        \n",
        "        loss = criterion(output, trg)\n",
        "        \n",
        "        loss.backward()\n",
        "        \n",
        "        torch.nn.utils.clip_grad_norm_(model.parameters(), clip)\n",
        "        \n",
        "        optimizer.step()\n",
        "        \n",
        "        epoch_loss += loss.item()\n",
        "        \n",
        "    return epoch_loss / len(iterator)"
      ],
      "metadata": {
        "id": "2jEJrGn3Nl9M"
      },
      "execution_count": null,
      "outputs": []
    },
    {
      "cell_type": "markdown",
      "source": [
        "Define evaluation loop."
      ],
      "metadata": {
        "id": "RQ0yKkl3Sd2R"
      }
    },
    {
      "cell_type": "code",
      "source": [
        "def evaluate(model, iterator, criterion):\n",
        "    \n",
        "    model.eval()\n",
        "    \n",
        "    epoch_loss = 0\n",
        "    \n",
        "    with torch.no_grad():\n",
        "    \n",
        "        for i, batch in enumerate(iterator):\n",
        "\n",
        "            src = batch.src\n",
        "            trg = batch.trg\n",
        "\n",
        "            output = model(src, trg, 0) # turn off teacher forcing\n",
        "\n",
        "            # trg = [trg len, batch size]\n",
        "            # output = [trg len, batch size, output dim]\n",
        "\n",
        "            output_dim = output.shape[-1]\n",
        "            \n",
        "            output = output[1:].view(-1, output_dim)\n",
        "            trg = trg[1:].view(-1)\n",
        "\n",
        "            # trg = [(trg len - 1) * batch size]\n",
        "            # output = [(trg len - 1) * batch size, output dim]\n",
        "\n",
        "            loss = criterion(output, trg)\n",
        "\n",
        "            epoch_loss += loss.item()\n",
        "        \n",
        "    return epoch_loss / len(iterator)"
      ],
      "metadata": {
        "id": "cFs6Z1VINnUe"
      },
      "execution_count": null,
      "outputs": []
    },
    {
      "cell_type": "markdown",
      "source": [
        "Calculate how long an epoch takes."
      ],
      "metadata": {
        "id": "kSwXvtAgShHw"
      }
    },
    {
      "cell_type": "code",
      "source": [
        "def epoch_time(start_time, end_time):\n",
        "    elapsed_time = end_time - start_time\n",
        "    elapsed_mins = int(elapsed_time / 60)\n",
        "    elapsed_secs = int(elapsed_time - (elapsed_mins * 60))\n",
        "    return elapsed_mins, elapsed_secs"
      ],
      "metadata": {
        "id": "K18SlQKdNorC"
      },
      "execution_count": null,
      "outputs": []
    },
    {
      "cell_type": "markdown",
      "source": [
        "Train the model, saving parameters that give us best validation loss."
      ],
      "metadata": {
        "id": "jvHbW4uwSkNm"
      }
    },
    {
      "cell_type": "code",
      "source": [
        "N_EPOCHS = 10\n",
        "CLIP = 1\n",
        "\n",
        "best_valid_loss = float('inf')\n",
        "\n",
        "for epoch in range(N_EPOCHS):\n",
        "    \n",
        "    start_time = time.time()\n",
        "    \n",
        "    train_loss = train(model, train_iterator, optimizer, criterion, CLIP)\n",
        "    valid_loss = evaluate(model, valid_iterator, criterion)\n",
        "    \n",
        "    end_time = time.time()\n",
        "    \n",
        "    epoch_mins, epoch_secs = epoch_time(start_time, end_time)\n",
        "    \n",
        "    if valid_loss < best_valid_loss:\n",
        "        best_valid_loss = valid_loss\n",
        "        torch.save(model.state_dict(), 'tut2-model.pt')\n",
        "    \n",
        "    print(f'Epoch: {epoch+1:02} | Time: {epoch_mins}m {epoch_secs}s')\n",
        "    print(f'\\tTrain Loss: {train_loss:.3f} | Train PPL: {math.exp(train_loss):7.3f}')\n",
        "    print(f'\\t Val. Loss: {valid_loss:.3f} |  Val. PPL: {math.exp(valid_loss):7.3f}')"
      ],
      "metadata": {
        "id": "raM1bcZPNqCd",
        "colab": {
          "base_uri": "https://localhost:8080/"
        },
        "outputId": "21d6b33a-42c1-413f-8101-afb947eaf2c3"
      },
      "execution_count": null,
      "outputs": [
        {
          "output_type": "stream",
          "name": "stdout",
          "text": [
            "Epoch: 01 | Time: 0m 37s\n",
            "\tTrain Loss: 5.052 | Train PPL: 156.394\n",
            "\t Val. Loss: 5.135 |  Val. PPL: 169.933\n",
            "Epoch: 02 | Time: 0m 36s\n",
            "\tTrain Loss: 4.383 | Train PPL:  80.083\n",
            "\t Val. Loss: 5.350 |  Val. PPL: 210.709\n",
            "Epoch: 03 | Time: 0m 36s\n",
            "\tTrain Loss: 4.094 | Train PPL:  59.955\n",
            "\t Val. Loss: 4.785 |  Val. PPL: 119.744\n",
            "Epoch: 04 | Time: 0m 36s\n",
            "\tTrain Loss: 3.772 | Train PPL:  43.465\n",
            "\t Val. Loss: 4.505 |  Val. PPL:  90.428\n",
            "Epoch: 05 | Time: 0m 36s\n",
            "\tTrain Loss: 3.455 | Train PPL:  31.661\n",
            "\t Val. Loss: 4.267 |  Val. PPL:  71.318\n",
            "Epoch: 06 | Time: 0m 36s\n",
            "\tTrain Loss: 3.171 | Train PPL:  23.833\n",
            "\t Val. Loss: 4.023 |  Val. PPL:  55.880\n",
            "Epoch: 07 | Time: 0m 35s\n",
            "\tTrain Loss: 2.919 | Train PPL:  18.530\n",
            "\t Val. Loss: 3.841 |  Val. PPL:  46.568\n",
            "Epoch: 08 | Time: 0m 36s\n",
            "\tTrain Loss: 2.673 | Train PPL:  14.478\n",
            "\t Val. Loss: 3.689 |  Val. PPL:  39.990\n",
            "Epoch: 09 | Time: 0m 36s\n",
            "\tTrain Loss: 2.445 | Train PPL:  11.529\n",
            "\t Val. Loss: 3.675 |  Val. PPL:  39.446\n",
            "Epoch: 10 | Time: 0m 36s\n",
            "\tTrain Loss: 2.271 | Train PPL:   9.687\n",
            "\t Val. Loss: 3.655 |  Val. PPL:  38.674\n"
          ]
        }
      ]
    },
    {
      "cell_type": "code",
      "source": [
        "model.load_state_dict(torch.load('tut2-model.pt'))\n",
        "\n",
        "test_loss = evaluate(model, test_iterator, criterion)\n",
        "\n",
        "print(f'| Test Loss: {test_loss:.3f} | Test PPL: {math.exp(test_loss):7.3f} |')"
      ],
      "metadata": {
        "id": "PElDzxHoNrWj",
        "colab": {
          "base_uri": "https://localhost:8080/"
        },
        "outputId": "6d1dc948-407a-482c-b7a0-a485cf0b40a3"
      },
      "execution_count": null,
      "outputs": [
        {
          "output_type": "stream",
          "name": "stdout",
          "text": [
            "| Test Loss: 3.605 | Test PPL:  36.770 |\n"
          ]
        }
      ]
    }
  ]
}