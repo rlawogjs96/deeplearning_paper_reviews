{
  "nbformat": 4,
  "nbformat_minor": 0,
  "metadata": {
    "colab": {
      "name": "Batch Normalization: Accelerating Deep Network Training by Reducing Internal Covariate Shift.ipynb",
      "provenance": [],
      "collapsed_sections": [],
      "authorship_tag": "ABX9TyM9iBJxgXjPtxmTZtaBYusv",
      "include_colab_link": true
    },
    "kernelspec": {
      "name": "python3",
      "display_name": "Python 3"
    },
    "language_info": {
      "name": "python"
    },
    "accelerator": "GPU",
    "gpuClass": "standard",
    "widgets": {
      "application/vnd.jupyter.widget-state+json": {
        "e7f7fbf5033c4046afb6f1680833c2f3": {
          "model_module": "@jupyter-widgets/controls",
          "model_name": "HBoxModel",
          "model_module_version": "1.5.0",
          "state": {
            "_dom_classes": [],
            "_model_module": "@jupyter-widgets/controls",
            "_model_module_version": "1.5.0",
            "_model_name": "HBoxModel",
            "_view_count": null,
            "_view_module": "@jupyter-widgets/controls",
            "_view_module_version": "1.5.0",
            "_view_name": "HBoxView",
            "box_style": "",
            "children": [
              "IPY_MODEL_be3da7a9ac7b487e81c154797d099faf",
              "IPY_MODEL_7686842231bb4510ad0f6cde33883254",
              "IPY_MODEL_72e1ffc0b4b8446c9ed34bd9eeb79a97"
            ],
            "layout": "IPY_MODEL_b97223e96aa242e6b2930f4a838d5121"
          }
        },
        "be3da7a9ac7b487e81c154797d099faf": {
          "model_module": "@jupyter-widgets/controls",
          "model_name": "HTMLModel",
          "model_module_version": "1.5.0",
          "state": {
            "_dom_classes": [],
            "_model_module": "@jupyter-widgets/controls",
            "_model_module_version": "1.5.0",
            "_model_name": "HTMLModel",
            "_view_count": null,
            "_view_module": "@jupyter-widgets/controls",
            "_view_module_version": "1.5.0",
            "_view_name": "HTMLView",
            "description": "",
            "description_tooltip": null,
            "layout": "IPY_MODEL_856989f0e9404a7590f8814978190137",
            "placeholder": "​",
            "style": "IPY_MODEL_5d1125b94e5b49e1a7095d5b1a6f11f2",
            "value": "100%"
          }
        },
        "7686842231bb4510ad0f6cde33883254": {
          "model_module": "@jupyter-widgets/controls",
          "model_name": "FloatProgressModel",
          "model_module_version": "1.5.0",
          "state": {
            "_dom_classes": [],
            "_model_module": "@jupyter-widgets/controls",
            "_model_module_version": "1.5.0",
            "_model_name": "FloatProgressModel",
            "_view_count": null,
            "_view_module": "@jupyter-widgets/controls",
            "_view_module_version": "1.5.0",
            "_view_name": "ProgressView",
            "bar_style": "success",
            "description": "",
            "description_tooltip": null,
            "layout": "IPY_MODEL_4f83ec8cf5ea4976a4e8858264590c69",
            "max": 170498071,
            "min": 0,
            "orientation": "horizontal",
            "style": "IPY_MODEL_cb6f5907fd1c406a96fa99649829b730",
            "value": 170498071
          }
        },
        "72e1ffc0b4b8446c9ed34bd9eeb79a97": {
          "model_module": "@jupyter-widgets/controls",
          "model_name": "HTMLModel",
          "model_module_version": "1.5.0",
          "state": {
            "_dom_classes": [],
            "_model_module": "@jupyter-widgets/controls",
            "_model_module_version": "1.5.0",
            "_model_name": "HTMLModel",
            "_view_count": null,
            "_view_module": "@jupyter-widgets/controls",
            "_view_module_version": "1.5.0",
            "_view_name": "HTMLView",
            "description": "",
            "description_tooltip": null,
            "layout": "IPY_MODEL_855ef96cdcaa4b239a048214472656d9",
            "placeholder": "​",
            "style": "IPY_MODEL_130966bc4bd949ff8abdbd7ba0481351",
            "value": " 170498071/170498071 [00:13&lt;00:00, 14292431.53it/s]"
          }
        },
        "b97223e96aa242e6b2930f4a838d5121": {
          "model_module": "@jupyter-widgets/base",
          "model_name": "LayoutModel",
          "model_module_version": "1.2.0",
          "state": {
            "_model_module": "@jupyter-widgets/base",
            "_model_module_version": "1.2.0",
            "_model_name": "LayoutModel",
            "_view_count": null,
            "_view_module": "@jupyter-widgets/base",
            "_view_module_version": "1.2.0",
            "_view_name": "LayoutView",
            "align_content": null,
            "align_items": null,
            "align_self": null,
            "border": null,
            "bottom": null,
            "display": null,
            "flex": null,
            "flex_flow": null,
            "grid_area": null,
            "grid_auto_columns": null,
            "grid_auto_flow": null,
            "grid_auto_rows": null,
            "grid_column": null,
            "grid_gap": null,
            "grid_row": null,
            "grid_template_areas": null,
            "grid_template_columns": null,
            "grid_template_rows": null,
            "height": null,
            "justify_content": null,
            "justify_items": null,
            "left": null,
            "margin": null,
            "max_height": null,
            "max_width": null,
            "min_height": null,
            "min_width": null,
            "object_fit": null,
            "object_position": null,
            "order": null,
            "overflow": null,
            "overflow_x": null,
            "overflow_y": null,
            "padding": null,
            "right": null,
            "top": null,
            "visibility": null,
            "width": null
          }
        },
        "856989f0e9404a7590f8814978190137": {
          "model_module": "@jupyter-widgets/base",
          "model_name": "LayoutModel",
          "model_module_version": "1.2.0",
          "state": {
            "_model_module": "@jupyter-widgets/base",
            "_model_module_version": "1.2.0",
            "_model_name": "LayoutModel",
            "_view_count": null,
            "_view_module": "@jupyter-widgets/base",
            "_view_module_version": "1.2.0",
            "_view_name": "LayoutView",
            "align_content": null,
            "align_items": null,
            "align_self": null,
            "border": null,
            "bottom": null,
            "display": null,
            "flex": null,
            "flex_flow": null,
            "grid_area": null,
            "grid_auto_columns": null,
            "grid_auto_flow": null,
            "grid_auto_rows": null,
            "grid_column": null,
            "grid_gap": null,
            "grid_row": null,
            "grid_template_areas": null,
            "grid_template_columns": null,
            "grid_template_rows": null,
            "height": null,
            "justify_content": null,
            "justify_items": null,
            "left": null,
            "margin": null,
            "max_height": null,
            "max_width": null,
            "min_height": null,
            "min_width": null,
            "object_fit": null,
            "object_position": null,
            "order": null,
            "overflow": null,
            "overflow_x": null,
            "overflow_y": null,
            "padding": null,
            "right": null,
            "top": null,
            "visibility": null,
            "width": null
          }
        },
        "5d1125b94e5b49e1a7095d5b1a6f11f2": {
          "model_module": "@jupyter-widgets/controls",
          "model_name": "DescriptionStyleModel",
          "model_module_version": "1.5.0",
          "state": {
            "_model_module": "@jupyter-widgets/controls",
            "_model_module_version": "1.5.0",
            "_model_name": "DescriptionStyleModel",
            "_view_count": null,
            "_view_module": "@jupyter-widgets/base",
            "_view_module_version": "1.2.0",
            "_view_name": "StyleView",
            "description_width": ""
          }
        },
        "4f83ec8cf5ea4976a4e8858264590c69": {
          "model_module": "@jupyter-widgets/base",
          "model_name": "LayoutModel",
          "model_module_version": "1.2.0",
          "state": {
            "_model_module": "@jupyter-widgets/base",
            "_model_module_version": "1.2.0",
            "_model_name": "LayoutModel",
            "_view_count": null,
            "_view_module": "@jupyter-widgets/base",
            "_view_module_version": "1.2.0",
            "_view_name": "LayoutView",
            "align_content": null,
            "align_items": null,
            "align_self": null,
            "border": null,
            "bottom": null,
            "display": null,
            "flex": null,
            "flex_flow": null,
            "grid_area": null,
            "grid_auto_columns": null,
            "grid_auto_flow": null,
            "grid_auto_rows": null,
            "grid_column": null,
            "grid_gap": null,
            "grid_row": null,
            "grid_template_areas": null,
            "grid_template_columns": null,
            "grid_template_rows": null,
            "height": null,
            "justify_content": null,
            "justify_items": null,
            "left": null,
            "margin": null,
            "max_height": null,
            "max_width": null,
            "min_height": null,
            "min_width": null,
            "object_fit": null,
            "object_position": null,
            "order": null,
            "overflow": null,
            "overflow_x": null,
            "overflow_y": null,
            "padding": null,
            "right": null,
            "top": null,
            "visibility": null,
            "width": null
          }
        },
        "cb6f5907fd1c406a96fa99649829b730": {
          "model_module": "@jupyter-widgets/controls",
          "model_name": "ProgressStyleModel",
          "model_module_version": "1.5.0",
          "state": {
            "_model_module": "@jupyter-widgets/controls",
            "_model_module_version": "1.5.0",
            "_model_name": "ProgressStyleModel",
            "_view_count": null,
            "_view_module": "@jupyter-widgets/base",
            "_view_module_version": "1.2.0",
            "_view_name": "StyleView",
            "bar_color": null,
            "description_width": ""
          }
        },
        "855ef96cdcaa4b239a048214472656d9": {
          "model_module": "@jupyter-widgets/base",
          "model_name": "LayoutModel",
          "model_module_version": "1.2.0",
          "state": {
            "_model_module": "@jupyter-widgets/base",
            "_model_module_version": "1.2.0",
            "_model_name": "LayoutModel",
            "_view_count": null,
            "_view_module": "@jupyter-widgets/base",
            "_view_module_version": "1.2.0",
            "_view_name": "LayoutView",
            "align_content": null,
            "align_items": null,
            "align_self": null,
            "border": null,
            "bottom": null,
            "display": null,
            "flex": null,
            "flex_flow": null,
            "grid_area": null,
            "grid_auto_columns": null,
            "grid_auto_flow": null,
            "grid_auto_rows": null,
            "grid_column": null,
            "grid_gap": null,
            "grid_row": null,
            "grid_template_areas": null,
            "grid_template_columns": null,
            "grid_template_rows": null,
            "height": null,
            "justify_content": null,
            "justify_items": null,
            "left": null,
            "margin": null,
            "max_height": null,
            "max_width": null,
            "min_height": null,
            "min_width": null,
            "object_fit": null,
            "object_position": null,
            "order": null,
            "overflow": null,
            "overflow_x": null,
            "overflow_y": null,
            "padding": null,
            "right": null,
            "top": null,
            "visibility": null,
            "width": null
          }
        },
        "130966bc4bd949ff8abdbd7ba0481351": {
          "model_module": "@jupyter-widgets/controls",
          "model_name": "DescriptionStyleModel",
          "model_module_version": "1.5.0",
          "state": {
            "_model_module": "@jupyter-widgets/controls",
            "_model_module_version": "1.5.0",
            "_model_name": "DescriptionStyleModel",
            "_view_count": null,
            "_view_module": "@jupyter-widgets/base",
            "_view_module_version": "1.2.0",
            "_view_name": "StyleView",
            "description_width": ""
          }
        }
      }
    }
  },
  "cells": [
    {
      "cell_type": "markdown",
      "metadata": {
        "id": "view-in-github",
        "colab_type": "text"
      },
      "source": [
        "<a href=\"https://colab.research.google.com/github/rlawogjs96/deeplearning_paper_reviews/blob/main/Batch_Normalization_Accelerating_Deep_Network_Training_by_Reducing_Internal_Covariate_Shift.ipynb\" target=\"_parent\"><img src=\"https://colab.research.google.com/assets/colab-badge.svg\" alt=\"Open In Colab\"/></a>"
      ]
    },
    {
      "cell_type": "markdown",
      "source": [
        "# Batch Normalization\n",
        "Training deep neural networks is quite difficult. Getting deep NNs to converge in a reasonable amount of time can be quite tricky. We introduce a technique called *batch normalization*, a popular and effective technique that consistently accelerates the convergence of deep networks. Batch normalization has made it possible for practioners to routinely train networks with over 100 layers. A secondary benefit of batch normalization is its inherent regularization.\n",
        "\n"
      ],
      "metadata": {
        "id": "82IVJckkYA2y"
      }
    },
    {
      "cell_type": "markdown",
      "source": [
        "### Training Deep Networks\n",
        "Batch normalization conveys all three benefits: preprocessing, numerical stability, and regularization. Batch normalization is applied to individual layers, or optionally, to all of them: In each training iteration: we normalize the inputs by subtracting their mean and dividing by their standard deviation, where both are estimated based on the statistics of the current minibatch. We then apply a scale coefficient and an offset to recover the lost degrees of freedom. It is precisely due to this *normalization* based on *batch* statistics that *batch normalization* derives its name. "
      ],
      "metadata": {
        "id": "Ov5pNbEEjOl_"
      }
    },
    {
      "cell_type": "markdown",
      "source": [
        "#### What is Internal Covariate Shift? \n",
        "내부 공변량 변화란 학습 과정에서 층 별로 입력 데이터 분포가 달라지는 현상을 말한다. 이전층의 학습에 의해 이전 층의 가중치 값이 바뀌면서 현재 층에 전달되는 입력 데이터의 분포가 현재 층이 학습했던 시점의 분포와 차이가 발생하는 것이다. Training Data 분포와 Test Data 분포가 다르며 내부적으로 신경망 층 사이에서 발생하는 입력 데이터의 분포 변화를 의미한다. \n",
        "\n",
        "정규화를 통하여 학습 속도를 개선하고, Large Learning Rate를 사용할 수 있다. 예를 들어 이미지 데이터의 pixel값이 0 ~ 255라면, 우리는 일반적으로 이 값을 0 ~ 1 또는 -1 ~ 1 로 정규화하여 사용한다. 이렇게 함으로서 더욱 빠른 학습속도를 만들 수 있다. "
      ],
      "metadata": {
        "id": "KQRg0foz3p1U"
      }
    },
    {
      "cell_type": "markdown",
      "source": [
        "#### 배치 정규화의 장점 \n",
        "  * **학습 속도 (training speed)** 를 빠르게 할 수 있다. 좋은 성능과 빠른 속도를 낼 수 있다. \n",
        "\n",
        "  * **가중치 초기화 (weight initialization)** 에 대한 민감도를 감소시킨다. 모델을 만들 때 hyperparameter 세팅에 대한 부담을 덜어준다. \n",
        "\n",
        "  * **일반화 (regularization)** 효과를 갖고 있다. \n",
        "\n",
        "  궁극적으로 Batch Normalization을 사용하지 않을 이유가 없다. 적은 양의 parameter를 추가하고 BN Layer를 생성함으로서 기하학적으로 모델의 성능을 높일 수 있다. "
      ],
      "metadata": {
        "id": "m-WVnsCH4KRh"
      }
    },
    {
      "cell_type": "markdown",
      "source": [
        "일반적인 ResNet18 모델 아키텍쳐 사용. 그 후 CIFAR-10 데이터셋 사용."
      ],
      "metadata": {
        "id": "g6qyiWnY42To"
      }
    },
    {
      "cell_type": "code",
      "source": [
        "import torch\n",
        "import torch.nn as nn\n",
        "import torch.nn.functional as F\n",
        "import torch.backends.cudnn as cudnn\n",
        "import torch.optim as optim\n",
        "import os\n",
        "import matplotlib.pyplot as plt\n",
        "\n",
        "\n",
        "# ResNet18을 위해 최대한 간단히 수정한 BasicBlock 클래스 정의\n",
        "class BasicBlock(nn.Module):\n",
        "    def __init__(self, in_planes, planes, with_BN, stride=1):\n",
        "        super(BasicBlock, self).__init__()\n",
        "        self.with_BN = with_BN\n",
        "\n",
        "        # 3x3 필터를 사용 (너비와 높이를 줄일 때는 stride 값 조절)\n",
        "        self.conv1 = nn.Conv2d(in_planes, planes, kernel_size=3, stride=stride, padding=1, bias=False)\n",
        "        if with_BN: # 배치 정규화(batch normalization)를 사용하는 경우\n",
        "            self.bn1 = nn.BatchNorm2d(planes) \n",
        "\n",
        "        # 3x3 필터를 사용 (패딩을 1만큼 주기 때문에 너비와 높이가 동일)\n",
        "        self.conv2 = nn.Conv2d(planes, planes, kernel_size=3, stride=1, padding=1, bias=False)\n",
        "        if with_BN: # 배치 정규화(batch normalization)를 사용하는 경우\n",
        "            self.bn2 = nn.BatchNorm2d(planes)\n",
        "\n",
        "        self.shortcut = nn.Sequential() # 단순한 identity mapping인 경우\n",
        "        if stride != 1: # stride가 1이 아니라면, Identity mapping이 아닌 경우\n",
        "            modules = [nn.Conv2d(in_planes, planes, kernel_size=1, stride=stride, bias=False)]\n",
        "            if with_BN:\n",
        "                modules.append(nn.BatchNorm2d(planes))\n",
        "            self.shortcut = nn.Sequential(*modules)\n",
        "\n",
        "    def forward(self, x):\n",
        "        if self.with_BN: # 배치 정규화(batch normalization)를 사용하는 경우\n",
        "            out = F.relu(self.bn1(self.conv1(x)))\n",
        "            out = self.bn2(self.conv2(out))\n",
        "        else:\n",
        "            out = F.relu(self.conv1(x))\n",
        "            out = self.conv2(out)\n",
        "        out += self.shortcut(x) # (핵심) skip connection\n",
        "        out = F.relu(out)\n",
        "        return out\n",
        "\n",
        "\n",
        "# ResNet 클래스 정의\n",
        "class ResNet(nn.Module):\n",
        "    def __init__(self, block, num_blocks, with_BN, num_classes=10):\n",
        "        super(ResNet, self).__init__()\n",
        "        self.in_planes = 64\n",
        "        self.with_BN = with_BN\n",
        "\n",
        "        # 64개의 3x3 필터(filter)를 사용\n",
        "        self.conv1 = nn.Conv2d(3, 64, kernel_size=3, stride=1, padding=1, bias=False)\n",
        "        if with_BN: # 배치 정규화(batch normalization)를 사용하는 경우\n",
        "            self.bn1 = nn.BatchNorm2d(64)\n",
        "        self.layer1 = self._make_layer(block, 64, with_BN, num_blocks[0], stride=1)\n",
        "        self.layer2 = self._make_layer(block, 128, with_BN, num_blocks[1], stride=2)\n",
        "        self.layer3 = self._make_layer(block, 256, with_BN, num_blocks[2], stride=2)\n",
        "        self.layer4 = self._make_layer(block, 512, with_BN, num_blocks[3], stride=2)\n",
        "        self.linear = nn.Linear(512, num_classes)\n",
        "\n",
        "    def _make_layer(self, block, planes, with_BN, num_blocks, stride):\n",
        "        strides = [stride] + [1] * (num_blocks - 1)\n",
        "        layers = []\n",
        "        for stride in strides:\n",
        "            layers.append(block(self.in_planes, planes, with_BN, stride))\n",
        "            self.in_planes = planes # 다음 레이어를 위해 채널 수 변경\n",
        "        return nn.Sequential(*layers)\n",
        "\n",
        "    def forward(self, x):\n",
        "        if self.with_BN: # 배치 정규화(batch normalization)를 사용하는 경우\n",
        "            out = F.relu(self.bn1(self.conv1(x)))\n",
        "        else:\n",
        "            out = F.relu(self.conv1(x))\n",
        "        out = self.layer1(out)\n",
        "        out = self.layer2(out)\n",
        "        out = self.layer3(out)\n",
        "        out = self.layer4(out)\n",
        "        out = F.avg_pool2d(out, 4)\n",
        "        out = out.view(out.size(0), -1)\n",
        "        out = self.linear(out)\n",
        "        return out\n",
        "\n",
        "\n",
        "# ResNet18 함수 정의\n",
        "def ResNet18(with_BN):\n",
        "    return ResNet(BasicBlock, [2, 2, 2, 2], with_BN)"
      ],
      "metadata": {
        "id": "MtlBJMzSZhA1"
      },
      "execution_count": 1,
      "outputs": []
    },
    {
      "cell_type": "code",
      "source": [
        "import torchvision\n",
        "import torchvision.transforms as transforms\n",
        "\n",
        "transform_train = transforms.Compose([\n",
        "    transforms.RandomCrop(32, padding=4),\n",
        "    transforms.RandomHorizontalFlip(),\n",
        "    transforms.ToTensor(),\n",
        "])\n",
        "\n",
        "transform_test = transforms.Compose([\n",
        "    transforms.ToTensor(),\n",
        "])\n",
        "\n",
        "train_dataset = torchvision.datasets.CIFAR10(root='./data', train=True, download=True, transform=transform_train)\n",
        "test_dataset = torchvision.datasets.CIFAR10(root='./data', train=False, download=True, transform=transform_test)\n",
        "\n",
        "train_loader = torch.utils.data.DataLoader(train_dataset, batch_size=128, shuffle=True, num_workers=4)\n",
        "test_loader = torch.utils.data.DataLoader(test_dataset, batch_size=100, shuffle=False, num_workers=4)"
      ],
      "metadata": {
        "colab": {
          "base_uri": "https://localhost:8080/",
          "height": 156,
          "referenced_widgets": [
            "e7f7fbf5033c4046afb6f1680833c2f3",
            "be3da7a9ac7b487e81c154797d099faf",
            "7686842231bb4510ad0f6cde33883254",
            "72e1ffc0b4b8446c9ed34bd9eeb79a97",
            "b97223e96aa242e6b2930f4a838d5121",
            "856989f0e9404a7590f8814978190137",
            "5d1125b94e5b49e1a7095d5b1a6f11f2",
            "4f83ec8cf5ea4976a4e8858264590c69",
            "cb6f5907fd1c406a96fa99649829b730",
            "855ef96cdcaa4b239a048214472656d9",
            "130966bc4bd949ff8abdbd7ba0481351"
          ]
        },
        "id": "mRBt8Htj4q_K",
        "outputId": "ff06963f-1b20-47a2-ffb0-d5babe32837b"
      },
      "execution_count": 2,
      "outputs": [
        {
          "output_type": "stream",
          "name": "stdout",
          "text": [
            "Downloading https://www.cs.toronto.edu/~kriz/cifar-10-python.tar.gz to ./data/cifar-10-python.tar.gz\n"
          ]
        },
        {
          "output_type": "display_data",
          "data": {
            "text/plain": [
              "  0%|          | 0/170498071 [00:00<?, ?it/s]"
            ],
            "application/vnd.jupyter.widget-view+json": {
              "version_major": 2,
              "version_minor": 0,
              "model_id": "e7f7fbf5033c4046afb6f1680833c2f3"
            }
          },
          "metadata": {}
        },
        {
          "output_type": "stream",
          "name": "stdout",
          "text": [
            "Extracting ./data/cifar-10-python.tar.gz to ./data\n",
            "Files already downloaded and verified\n"
          ]
        },
        {
          "output_type": "stream",
          "name": "stderr",
          "text": [
            "/usr/local/lib/python3.7/dist-packages/torch/utils/data/dataloader.py:566: UserWarning: This DataLoader will create 4 worker processes in total. Our suggested max number of worker in current system is 2, which is smaller than what this DataLoader is going to create. Please be aware that excessive worker creation might get DataLoader running slow or even freeze, lower the worker number to avoid potential slowness/freeze if necessary.\n",
            "  cpuset_checked))\n"
          ]
        }
      ]
    },
    {
      "cell_type": "markdown",
      "source": [
        "#### Training / Test 함수 정의"
      ],
      "metadata": {
        "id": "_kayKxmV49RZ"
      }
    },
    {
      "cell_type": "markdown",
      "source": [
        "가장 큰 핵심은 BN을 적용시키지 않은 학습을 진행해보고, BN을 적용시킨 학습을 진행하는 것이다. 그 후 두 가지 모델의 성능을 비교분석한다. 각 모델마다 학습 과정에서의 step에 따른 loss값을 시각화, accuracy 와 loss 값을 시각화한다."
      ],
      "metadata": {
        "id": "NPwX2czN5Gio"
      }
    },
    {
      "cell_type": "code",
      "source": [
        "criterion = nn.CrossEntropyLoss() # 분류(classification) 문제\n",
        "\n",
        "\n",
        "def train(net, optimizer, epoch, step):\n",
        "    net.train()\n",
        "    correct = 0 # 정답을 맞힌 이미지 개수\n",
        "    total = 0 # 전체 이미지 개수\n",
        "    steps = [] # 학습 스텝(step)\n",
        "    losses = [] # 각 스텝에서의 손실(loss)\n",
        "\n",
        "    for _, (inputs, targets) in enumerate(train_loader):\n",
        "        inputs, targets = inputs.cuda(), targets.cuda()\n",
        "\n",
        "        optimizer.zero_grad()\n",
        "        outputs = net(inputs)\n",
        "        loss = criterion(outputs, targets)\n",
        "        loss.backward()\n",
        "        optimizer.step()\n",
        "        \n",
        "        _, predicted = outputs.max(1)\n",
        "        correct += predicted.eq(targets).sum().item()\n",
        "        total += targets.size(0)\n",
        "\n",
        "        steps.append(step)\n",
        "        losses.append(loss.item())\n",
        "        step += 1\n",
        "\n",
        "    return correct / total, steps, losses\n",
        "\n",
        "\n",
        "def test(net, optimizer, epoch):\n",
        "    net.eval()\n",
        "    correct = 0 # 정답을 맞힌 이미지 개수\n",
        "    total = 0 # 전체 이미지 개수\n",
        "    loss = 0 # 손실(loss)\n",
        "\n",
        "    for batch_idx, (inputs, targets) in enumerate(test_loader):\n",
        "        inputs, targets = inputs.cuda(), targets.cuda()\n",
        "\n",
        "        outputs = net(inputs)\n",
        "        loss += criterion(outputs, targets).item()\n",
        "\n",
        "        _, predicted = outputs.max(1)\n",
        "        correct += predicted.eq(targets).sum().item()\n",
        "        total += targets.size(0)\n",
        "\n",
        "    return correct / total, loss"
      ],
      "metadata": {
        "id": "dCM4F7xZ470b"
      },
      "execution_count": 3,
      "outputs": []
    },
    {
      "cell_type": "code",
      "source": [
        "net = ResNet18(with_BN=False).cuda()\n",
        "learning_rate = 0.01\n",
        "optimizer = optim.SGD(net.parameters(), lr=learning_rate, momentum=0.9, weight_decay=0.0002)\n",
        "total_params = sum(p.numel() for p in net.parameters() if p.requires_grad)"
      ],
      "metadata": {
        "id": "cBnVN7rt5YTw"
      },
      "execution_count": 5,
      "outputs": []
    },
    {
      "cell_type": "code",
      "source": [
        "without_BN_train_accuracies = []\n",
        "without_BN_steps = []\n",
        "without_BN_train_losses = []\n",
        "without_BN_test_accuracies = []\n",
        "without_BN_test_losses = []\n",
        "\n",
        "epochs = 20\n",
        "\n",
        "for epoch in range(0, epochs):\n",
        "    print(f'[ Epoch: {epoch}/{epochs} ]')\n",
        "    train_accuracy, steps, train_losses = train(net, optimizer, epoch, len(without_BN_steps))\n",
        "    without_BN_train_accuracies.append(train_accuracy)\n",
        "    without_BN_steps.extend(steps)\n",
        "    without_BN_train_losses.extend(train_losses)\n",
        "    print(f'Train accuracy = {train_accuracy * 100:.2f} / Train loss = {sum(train_losses)}')\n",
        "\n",
        "    test_accuracy, test_loss = test(net, optimizer, epoch)\n",
        "    without_BN_test_accuracies.append(test_accuracy)\n",
        "    without_BN_test_losses.append(test_loss)\n",
        "    print(f'Test accuracy = {test_accuracy * 100:.2f} / Test loss = {test_loss}')"
      ],
      "metadata": {
        "colab": {
          "base_uri": "https://localhost:8080/"
        },
        "id": "sP6E-7YO5DSo",
        "outputId": "c042955d-744e-4a0a-e0dc-6174894288de"
      },
      "execution_count": 6,
      "outputs": [
        {
          "output_type": "stream",
          "name": "stdout",
          "text": [
            "[ Epoch: 0/20 ]\n",
            "Train accuracy = 14.47 / Train loss = 869.1028288602829\n",
            "Test accuracy = 23.63 / Test loss = 205.60107898712158\n",
            "[ Epoch: 1/20 ]\n",
            "Train accuracy = 26.47 / Train loss = 772.4002048969269\n",
            "Test accuracy = 33.21 / Test loss = 185.76193499565125\n",
            "[ Epoch: 2/20 ]\n",
            "Train accuracy = 33.58 / Train loss = 702.3508319854736\n",
            "Test accuracy = 38.11 / Test loss = 167.03959846496582\n",
            "[ Epoch: 3/20 ]\n",
            "Train accuracy = 39.45 / Train loss = 641.0530158281326\n",
            "Test accuracy = 40.24 / Test loss = 161.88050866127014\n",
            "[ Epoch: 4/20 ]\n",
            "Train accuracy = 43.87 / Train loss = 595.9774737358093\n",
            "Test accuracy = 46.27 / Test loss = 145.51828920841217\n",
            "[ Epoch: 5/20 ]\n",
            "Train accuracy = 48.66 / Train loss = 552.8187597990036\n",
            "Test accuracy = 53.02 / Test loss = 128.97906517982483\n",
            "[ Epoch: 6/20 ]\n",
            "Train accuracy = 53.53 / Train loss = 505.5004539489746\n",
            "Test accuracy = 57.46 / Test loss = 118.13176900148392\n",
            "[ Epoch: 7/20 ]\n",
            "Train accuracy = 56.53 / Train loss = 477.301631629467\n",
            "Test accuracy = 60.09 / Test loss = 112.28016984462738\n",
            "[ Epoch: 8/20 ]\n",
            "Train accuracy = 60.16 / Train loss = 438.4215794801712\n",
            "Test accuracy = 61.15 / Test loss = 109.1179935336113\n",
            "[ Epoch: 9/20 ]\n",
            "Train accuracy = 62.96 / Train loss = 407.66044199466705\n",
            "Test accuracy = 65.68 / Test loss = 100.5541929602623\n",
            "[ Epoch: 10/20 ]\n",
            "Train accuracy = 65.26 / Train loss = 383.99577593803406\n",
            "Test accuracy = 63.68 / Test loss = 105.12733447551727\n",
            "[ Epoch: 11/20 ]\n",
            "Train accuracy = 67.53 / Train loss = 361.7122827768326\n",
            "Test accuracy = 64.10 / Test loss = 103.67503750324249\n",
            "[ Epoch: 12/20 ]\n",
            "Train accuracy = 69.42 / Train loss = 339.98976987600327\n",
            "Test accuracy = 71.64 / Test loss = 82.17013955116272\n",
            "[ Epoch: 13/20 ]\n",
            "Train accuracy = 71.59 / Train loss = 318.13096779584885\n",
            "Test accuracy = 71.62 / Test loss = 80.53796380758286\n",
            "[ Epoch: 14/20 ]\n",
            "Train accuracy = 73.02 / Train loss = 299.11907306313515\n",
            "Test accuracy = 73.05 / Test loss = 79.48634606599808\n",
            "[ Epoch: 15/20 ]\n",
            "Train accuracy = 74.55 / Train loss = 284.75853940844536\n",
            "Test accuracy = 74.22 / Test loss = 75.83112525939941\n",
            "[ Epoch: 16/20 ]\n",
            "Train accuracy = 75.55 / Train loss = 273.9822423160076\n",
            "Test accuracy = 75.41 / Test loss = 72.71773979067802\n",
            "[ Epoch: 17/20 ]\n",
            "Train accuracy = 77.25 / Train loss = 256.94183242321014\n",
            "Test accuracy = 77.93 / Test loss = 64.33244299888611\n",
            "[ Epoch: 18/20 ]\n",
            "Train accuracy = 78.26 / Train loss = 245.64212945103645\n",
            "Test accuracy = 75.77 / Test loss = 69.67268279194832\n",
            "[ Epoch: 19/20 ]\n",
            "Train accuracy = 79.31 / Train loss = 231.9986786544323\n",
            "Test accuracy = 78.77 / Test loss = 63.753792464733124\n"
          ]
        }
      ]
    },
    {
      "cell_type": "code",
      "source": [
        "plt.plot(without_BN_steps, without_BN_train_losses)\n",
        "plt.title('Train Loss')\n",
        "plt.xlabel('Step')\n",
        "plt.ylabel('Loss')\n",
        "plt.show()\n",
        "\n",
        "plt.plot([i for i in range(len(without_BN_test_accuracies))], without_BN_test_accuracies)\n",
        "plt.title('Test Accuracy')\n",
        "plt.xlabel('Epoch')\n",
        "plt.ylabel('Accuracy')\n",
        "plt.show()\n",
        "\n",
        "plt.plot([i for i in range(len(without_BN_test_losses))], without_BN_test_losses)\n",
        "plt.title('Test Loss')\n",
        "plt.xlabel('Epoch')\n",
        "plt.ylabel('Loss')\n",
        "plt.show()"
      ],
      "metadata": {
        "colab": {
          "base_uri": "https://localhost:8080/",
          "height": 851
        },
        "id": "WzROvXfL5Tov",
        "outputId": "e95103da-7a4a-4312-8d4e-a046122c6dc7"
      },
      "execution_count": 7,
      "outputs": [
        {
          "output_type": "display_data",
          "data": {
            "text/plain": [
              "<Figure size 432x288 with 1 Axes>"
            ],
            "image/png": "[encoded data removed]"
          },
          "metadata": {
            "needs_background": "light"
          }
        },
        {
          "output_type": "display_data",
          "data": {
            "text/plain": [
              "<Figure size 432x288 with 1 Axes>"
            ],
            "image/png": "[encoded data removed]"
          },
          "metadata": {
            "needs_background": "light"
          }
        },
        {
          "output_type": "display_data",
          "data": {
            "text/plain": [
              "<Figure size 432x288 with 1 Axes>"
            ],
            "image/png": "[encoded data removed]"
          },
          "metadata": {
            "needs_background": "light"
          }
        }
      ]
    },
    {
      "cell_type": "code",
      "source": [
        "net = ResNet18(with_BN=True).cuda()\n",
        "learning_rate = 0.01\n",
        "optimizer = optim.SGD(net.parameters(), lr=learning_rate, momentum=0.9, weight_decay=0.0002)\n",
        "total_params = sum(p.numel() for p in net.parameters() if p.requires_grad)"
      ],
      "metadata": {
        "id": "ZUNplq495ey2"
      },
      "execution_count": 8,
      "outputs": []
    },
    {
      "cell_type": "code",
      "source": [
        "with_BN_train_accuracies = []\n",
        "with_BN_steps = []\n",
        "with_BN_train_losses = []\n",
        "with_BN_test_accuracies = []\n",
        "with_BN_test_losses = []\n",
        "\n",
        "epochs = 20\n",
        "\n",
        "for epoch in range(0, epochs):\n",
        "    print(f'[ Epoch: {epoch}/{epochs} ]')\n",
        "    train_accuracy, steps, train_losses = train(net, optimizer, epoch, len(with_BN_steps))\n",
        "    with_BN_train_accuracies.append(train_accuracy)\n",
        "    with_BN_steps.extend(steps)\n",
        "    with_BN_train_losses.extend(train_losses)\n",
        "    print(f'Train accuracy = {train_accuracy * 100:.2f} / Train loss = {sum(train_losses)}')\n",
        "\n",
        "    test_accuracy, test_loss = test(net, optimizer, epoch)\n",
        "    with_BN_test_accuracies.append(test_accuracy)\n",
        "    with_BN_test_losses.append(test_loss)\n",
        "    print(f'Test accuracy = {test_accuracy * 100:.2f} / Test loss = {test_loss}')"
      ],
      "metadata": {
        "colab": {
          "base_uri": "https://localhost:8080/"
        },
        "id": "Ws-Mb9A-5jyK",
        "outputId": "dcdfe669-8bf2-47a4-8e51-45944fcf07bf"
      },
      "execution_count": 9,
      "outputs": [
        {
          "output_type": "stream",
          "name": "stdout",
          "text": [
            "[ Epoch: 0/20 ]\n",
            "Train accuracy = 47.27 / Train loss = 565.2258674502373\n",
            "Test accuracy = 56.11 / Test loss = 129.52337181568146\n",
            "[ Epoch: 1/20 ]\n",
            "Train accuracy = 65.98 / Train loss = 374.8681129813194\n",
            "Test accuracy = 69.34 / Test loss = 90.34427803754807\n",
            "[ Epoch: 2/20 ]\n",
            "Train accuracy = 74.49 / Train loss = 287.7697993814945\n",
            "Test accuracy = 73.36 / Test loss = 78.68182277679443\n",
            "[ Epoch: 3/20 ]\n",
            "Train accuracy = 79.08 / Train loss = 236.72278609871864\n",
            "Test accuracy = 78.23 / Test loss = 64.33940604329109\n",
            "[ Epoch: 4/20 ]\n",
            "Train accuracy = 81.75 / Train loss = 206.850151181221\n",
            "Test accuracy = 79.74 / Test loss = 59.61471250653267\n",
            "[ Epoch: 5/20 ]\n",
            "Train accuracy = 83.59 / Train loss = 184.41838571429253\n",
            "Test accuracy = 83.34 / Test loss = 51.146614879369736\n",
            "[ Epoch: 6/20 ]\n",
            "Train accuracy = 85.64 / Train loss = 163.51563692092896\n",
            "Test accuracy = 80.41 / Test loss = 59.18837559223175\n",
            "[ Epoch: 7/20 ]\n",
            "Train accuracy = 86.66 / Train loss = 149.06287199258804\n",
            "Test accuracy = 85.15 / Test loss = 43.77666065096855\n",
            "[ Epoch: 8/20 ]\n",
            "Train accuracy = 87.69 / Train loss = 139.0715671479702\n",
            "Test accuracy = 85.04 / Test loss = 45.12093985080719\n",
            "[ Epoch: 9/20 ]\n",
            "Train accuracy = 88.78 / Train loss = 125.84697990119457\n",
            "Test accuracy = 84.90 / Test loss = 47.8718541264534\n",
            "[ Epoch: 10/20 ]\n",
            "Train accuracy = 89.51 / Train loss = 117.09563264250755\n",
            "Test accuracy = 84.94 / Test loss = 47.619882106781006\n",
            "[ Epoch: 11/20 ]\n",
            "Train accuracy = 90.28 / Train loss = 110.05818831920624\n",
            "Test accuracy = 85.46 / Test loss = 46.085046261548996\n",
            "[ Epoch: 12/20 ]\n",
            "Train accuracy = 90.78 / Train loss = 103.52006934583187\n",
            "Test accuracy = 86.46 / Test loss = 42.414216697216034\n",
            "[ Epoch: 13/20 ]\n",
            "Train accuracy = 91.47 / Train loss = 96.07829317450523\n",
            "Test accuracy = 88.05 / Test loss = 37.513763934373856\n",
            "[ Epoch: 14/20 ]\n",
            "Train accuracy = 91.87 / Train loss = 89.61523738503456\n",
            "Test accuracy = 86.30 / Test loss = 43.506584361195564\n",
            "[ Epoch: 15/20 ]\n",
            "Train accuracy = 92.40 / Train loss = 84.03142450749874\n",
            "Test accuracy = 87.76 / Test loss = 38.5999955534935\n",
            "[ Epoch: 16/20 ]\n",
            "Train accuracy = 92.83 / Train loss = 79.5703220590949\n",
            "Test accuracy = 87.28 / Test loss = 40.71587483584881\n",
            "[ Epoch: 17/20 ]\n",
            "Train accuracy = 93.22 / Train loss = 75.20552387088537\n",
            "Test accuracy = 89.54 / Test loss = 33.4414236843586\n",
            "[ Epoch: 18/20 ]\n",
            "Train accuracy = 93.62 / Train loss = 70.99680396914482\n",
            "Test accuracy = 89.56 / Test loss = 34.69537118822336\n",
            "[ Epoch: 19/20 ]\n",
            "Train accuracy = 94.24 / Train loss = 64.86566080898046\n",
            "Test accuracy = 89.04 / Test loss = 36.8382553756237\n"
          ]
        }
      ]
    },
    {
      "cell_type": "code",
      "source": [
        "plt.plot(with_BN_steps, with_BN_train_losses)\n",
        "plt.title('Train Loss')\n",
        "plt.xlabel('Step')\n",
        "plt.ylabel('Loss')\n",
        "plt.show()\n",
        "\n",
        "plt.plot([i for i in range(len(with_BN_test_accuracies))], with_BN_test_accuracies)\n",
        "plt.title('Test Accuracy')\n",
        "plt.xlabel('Epoch')\n",
        "plt.ylabel('Accuracy')\n",
        "plt.show()\n",
        "\n",
        "plt.plot([i for i in range(len(with_BN_test_losses))], with_BN_test_losses)\n",
        "plt.title('Test Loss')\n",
        "plt.xlabel('Epoch')\n",
        "plt.ylabel('Loss')\n",
        "plt.show()"
      ],
      "metadata": {
        "colab": {
          "base_uri": "https://localhost:8080/",
          "height": 851
        },
        "id": "h4uBHZ1T5lZE",
        "outputId": "1baa1fcd-1222-4e57-e5fe-aef743c6afbf"
      },
      "execution_count": 10,
      "outputs": [
        {
          "output_type": "display_data",
          "data": {
            "text/plain": [
              "<Figure size 432x288 with 1 Axes>"
            ],
            "image/png": "[encoded data removed]"
          },
          "metadata": {
            "needs_background": "light"
          }
        },
        {
          "output_type": "display_data",
          "data": {
            "text/plain": [
              "<Figure size 432x288 with 1 Axes>"
            ],
            "image/png": "[encoded data removed]"
          },
          "metadata": {
            "needs_background": "light"
          }
        },
        {
          "output_type": "display_data",
          "data": {
            "text/plain": [
              "<Figure size 432x288 with 1 Axes>"
            ],
            "image/png": "[encoded data removed]"
          },
          "metadata": {
            "needs_background": "light"
          }
        }
      ]
    },
    {
      "cell_type": "code",
      "source": [
        "plt.plot(without_BN_steps, without_BN_train_losses)\n",
        "plt.plot(with_BN_steps, with_BN_train_losses)\n",
        "plt.title('Train Loss')\n",
        "plt.xlabel('Step')\n",
        "plt.ylabel('Loss')\n",
        "plt.legend(['w/o BN', 'w/ BN'])\n",
        "plt.show()\n",
        "\n",
        "plt.plot([i for i in range(len(without_BN_test_accuracies))], without_BN_test_accuracies)\n",
        "plt.plot([i for i in range(len(with_BN_test_accuracies))], with_BN_test_accuracies)\n",
        "plt.title('Test Accuracy')\n",
        "plt.xlabel('Epoch')\n",
        "plt.ylabel('Accuracy')\n",
        "plt.legend(['w/o BN', 'w/ BN'])\n",
        "plt.show()\n",
        "\n",
        "plt.plot([i for i in range(len(without_BN_test_losses))], without_BN_test_losses)\n",
        "plt.plot([i for i in range(len(with_BN_test_losses))], with_BN_test_losses)\n",
        "plt.title('Test Loss')\n",
        "plt.xlabel('Epoch')\n",
        "plt.ylabel('Loss')\n",
        "plt.legend(['w/o BN', 'w/ BN'])\n",
        "plt.show()"
      ],
      "metadata": {
        "colab": {
          "base_uri": "https://localhost:8080/",
          "height": 851
        },
        "id": "_DqY-13p5obH",
        "outputId": "dcc68afd-b62e-44cf-a217-4859a39fd274"
      },
      "execution_count": 11,
      "outputs": [
        {
          "output_type": "display_data",
          "data": {
            "text/plain": [
              "<Figure size 432x288 with 1 Axes>"
            ],
            "image/png": "[encoded data removed]"
          },
          "metadata": {
            "needs_background": "light"
          }
        },
        {
          "output_type": "display_data",
          "data": {
            "text/plain": [
              "<Figure size 432x288 with 1 Axes>"
            ],
            "image/png": "[encoded data removed]"
          },
          "metadata": {
            "needs_background": "light"
          }
        },
        {
          "output_type": "display_data",
          "data": {
            "text/plain": [
              "<Figure size 432x288 with 1 Axes>"
            ],
            "image/png": "[encoded data removed]"
          },
          "metadata": {
            "needs_background": "light"
          }
        }
      ]
    }
  ]
}